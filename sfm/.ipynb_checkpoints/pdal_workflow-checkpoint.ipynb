{
 "cells": [
  {
   "cell_type": "markdown",
   "metadata": {},
   "source": [
    "# Using PDAL, Entwine, & Potree to visualize lidar and sfm point cloud data in your browser\n",
    "\n",
    "## Step 1: PDAL\n",
    "Pull the [PDAL Docker](https://hub.docker.com/r/pdal/pdal/) container from [DockerHub](https://hub.docker.com/)\n",
    "\n",
    "We are going to use PDAL to filter the data for outliers and color the point clouds"
   ]
  },
  {
   "cell_type": "code",
   "execution_count": 1,
   "metadata": {},
   "outputs": [
    {
     "name": "stdout",
     "output_type": "stream",
     "text": [
      "latest: Pulling from pdal/pdal\n",
      "\n",
      "\u001b[1B\n",
      "\u001b[1BDigest: sha256:5ad5c2bb66d0d7f8e1225fa659982af05d3d1880de3930360712af03a650c477\n",
      "Status: Downloaded newer image for pdal/pdal:latest\n"
     ]
    }
   ],
   "source": [
    "docker pull pdal/pdal:latest"
   ]
  },
  {
   "cell_type": "markdown",
   "metadata": {},
   "source": [
    "## Step 2: Get Data\n",
    "\n",
    "At this point you're ready to do some analyses with PDAL, but we need to get some data."
   ]
  },
  {
   "cell_type": "markdown",
   "metadata": {},
   "source": []
  },
  {
   "cell_type": "markdown",
   "metadata": {},
   "source": [
    "### CyVerse DataStore\n",
    "\n",
    "If you haven't already connected your data store to your running instance, you can do so now.\n",
    "\n",
    "From a `ssh` or web shell console, initiate the iRODS connection using the `iinit` command.\n",
    "\n",
    "If you're doing this on your local machine, you will have to install [irods-icommands](https://docs.irods.org/master/getting_started/download/)"
   ]
  },
  {
   "cell_type": "markdown",
   "metadata": {},
   "source": [
    "|field|response|\n",
    "|-----|--------|\n",
    "|host name (DNS)|data.cyverse.org|\n",
    "|port number|1247|\n",
    "|user name|$USER|\n",
    "|irods zone|iplant|\n",
    "|irods password|type password|"
   ]
  },
  {
   "cell_type": "markdown",
   "metadata": {},
   "source": [
    "Now you're ready to pull data from the CyVerse data store onto the virtual instance."
   ]
  },
  {
   "cell_type": "markdown",
   "metadata": {},
   "source": [
    "Create a new working directory for the lidar data: "
   ]
  },
  {
   "cell_type": "code",
   "execution_count": null,
   "metadata": {},
   "outputs": [],
   "source": [
    "cd\n",
    "mkdir white_mountains\n",
    "ls"
   ]
  },
  {
   "cell_type": "code",
   "execution_count": null,
   "metadata": {},
   "outputs": [],
   "source": [
    "iget -KPQbrvf /iplant/home/tyson_swetnam/4fri/phase2/All_Returns_LAZ /home/tswetnam/white_mountains/"
   ]
  },
  {
   "cell_type": "markdown",
   "metadata": {},
   "source": [
    "Push the Hannigan Meadow dense sfm point cloud onto CyVerse"
   ]
  },
  {
   "cell_type": "code",
   "execution_count": 5,
   "metadata": {},
   "outputs": [
    {
     "name": "stdout",
     "output_type": "stream",
     "text": [
      "0/1 -  0.00% of files done   0.000/1463.744 MB -  0.00% of file sizes done\n",
      "Processing hannigan_meadow_ultra_high.laz - 1463.744 MB   2018-04-19.10:13:08\n",
      "hannigan_meadow_ultra_high.laz - 360.000/1463.744 MB - 24.59% done   2018-04-19.10:13:22\n",
      "hannigan_meadow_ultra_high.laz - 1251.872/1463.744 MB - 85.53% done   2018-04-19.10:13:27\n",
      "hannigan_meadow_ultra_high.laz - 1389.292/1463.744 MB - 94.91% done   2018-04-19.10:13:28\n",
      "hannigan_meadow_ultra_high.laz - 1463.744/1463.744 MB - 100.00% done   2018-04-19.10:13:28\n",
      "   hannigan_meadow_ultra_hig    1463.744 MB | 30.425 sec | 16 thr | 48.110 MB/s\n"
     ]
    }
   ],
   "source": [
    "iput -KPQbrvf /home/tswetnam/hannigan_meadow_ultra_high.laz /iplant/home/tyson_swetnam/white_mountains/"
   ]
  },
  {
   "cell_type": "markdown",
   "metadata": {},
   "source": []
  },
  {
   "cell_type": "code",
   "execution_count": 7,
   "metadata": {},
   "outputs": [
    {
     "name": "stdout",
     "output_type": "stream",
     "text": [
      "{\n",
      "  \"filename\": \"data\\/hannigan_meadow_ultra_high.laz\",\n",
      "  \"pdal_version\": \"1.7.1 (git-version: d6902f)\",\n",
      "  \"points\":\n",
      "  {\n",
      "    \"point\":\n",
      "    {\n",
      "      \"Blue\": 18504,\n",
      "      \"Classification\": 0,\n",
      "      \"EdgeOfFlightLine\": 0,\n",
      "      \"Green\": 13878,\n",
      "      \"Intensity\": 15163,\n",
      "      \"NumberOfReturns\": 1,\n",
      "      \"PointId\": 1,\n",
      "      \"PointSourceId\": 1,\n",
      "      \"Red\": 17219,\n",
      "      \"ReturnNumber\": 1,\n",
      "      \"ScanAngleRank\": 0,\n",
      "      \"ScanDirectionFlag\": 1,\n",
      "      \"UserData\": 0,\n",
      "      \"X\": -109.3282009,\n",
      "      \"Y\": 33.63222157,\n",
      "      \"Z\": 2789.701\n",
      "    }\n",
      "  }\n",
      "}\n"
     ]
    }
   ],
   "source": [
    "docker run -v /home/tswetnam/:/data pdal/pdal pdal info data/hannigan_meadow_ultra_high.laz -p 1 "
   ]
  },
  {
   "cell_type": "markdown",
   "metadata": {},
   "source": [
    "Find the boundaries of the tile"
   ]
  },
  {
   "cell_type": "code",
   "execution_count": null,
   "metadata": {},
   "outputs": [],
   "source": [
    "docker run -v /home/tswetnam/:/data pdal/pdal pdal info data/hannigan_meadow_ultra_high.laz --boundary"
   ]
  },
  {
   "cell_type": "markdown",
   "metadata": {},
   "source": [
    "Now I'm going to create a tile index"
   ]
  },
  {
   "cell_type": "code",
   "execution_count": null,
   "metadata": {},
   "outputs": [],
   "source": [
    "docker run -v /home/tswetnam/DiscreteLidar/ClassifiedPointCloud:/data pdal/pdal pdal info data/NEON_D14_SRER_DP1_510000_3514000_classified_point_cloud.laz"
   ]
  },
  {
   "cell_type": "code",
   "execution_count": 3,
   "metadata": {},
   "outputs": [
    {
     "name": "stdout",
     "output_type": "stream",
     "text": [
      "PDAL: Couldn't find files to index: .\n",
      "\n"
     ]
    },
    {
     "ename": "",
     "evalue": "1",
     "execution_count": 3,
     "output_type": "error",
     "traceback": []
    }
   ],
   "source": []
  },
  {
   "cell_type": "code",
   "execution_count": 1,
   "metadata": {},
   "outputs": [
    {
     "name": "stdout",
     "output_type": "stream",
     "text": [
      "Performing dataset inference...\n",
      "1 / 1: data/hannigan_meadow_ultra_high.laz\n",
      "Inferred: [(-109.32862, 33.632182, 2733.991), (-109.32023, 33.64277, 2846.353)]\n",
      "Applied density (+14)\n",
      "\n",
      "Version: 1.1.0\n",
      "Input:\n",
      "\tFile: data/hannigan_meadow_ultra_high.laz\n",
      "\tPoint count hint: 149,737,709 points\n",
      "\tDensity estimate (per square unit): 1.68536e+12\n",
      "\tThreads: 8\n",
      "Output:\n",
      "\tOutput path: data/entwine/hannigan/\n",
      "\tData storage: laszip\n",
      "\tScale: (1e-08, 1e-08, 0.001)\n",
      "\tOffset: (-90, 40, 2800)\n",
      "\tXYZ width: 8\n",
      "Metadata:\n",
      "\tNative bounds: [(-109.32862, 33.632182, 2733.991), (-109.32023, 33.64277, 2846.353)]\n",
      "\tCubic bounds: [(-170, -40, 2720), (-10, 120, 2880)]\n",
      "\tReprojection: (none)\n",
      "\tStoring dimensions: [\n",
      "\t\tX, Y, Z, Intensity, ReturnNumber\n",
      "\t\tNumberOfReturns, ScanDirectionFlag, EdgeOfFlightLine, Classification, ScanAngleRank\n",
      "\t\tUserData, PointSourceId, Red, Green, Blue\n",
      "\t\tOriginId\n",
      "\t]\n",
      "\n",
      "Adding 0 - data/hannigan_meadow_ultra_high.laz\n",
      "\tPushes complete - joining...\n",
      "Found an SRS\n",
      " T: 10s P: 465M/h A: 2,097,152 U: 61% C: 33 H: 14 I: 1,294,336 P: 1%\n",
      " T: 20s P: 463M/h A: 3,145,728 U: 82% C: 46 H: 15 I: 2,576,384 P: 2%\n",
      " T: 30s P: 467M/h A: 4,194,304 U: 93% C: 52 H: 15 I: 3,899,392 P: 3%\n",
      " T: 40s P: 466M/h A: 5,242,880 U: 98% C: 54 H: 15 I: 5,185,536 P: 3%\n",
      " T: 50s P: 470M/h A: 7,340,032 U: 89% C: 56 H: 15 I: 6,537,216 P: 4%\n",
      " T: 60s P: 473M/h A: 8,388,608 U: 94% C: 56 H: 15 I: 7,892,992 P: 5%\n",
      " T: 70s P: 477M/h A: 9,437,184 U: 98% C: 61 H: 15 I: 9,277,440 P: 6%\n",
      " T: 80s P: 475M/h A: 11,534,336 U: 91% C: 70 H: 15 I: 10,567,680 P: 7%\n",
      " T: 90s P: 473M/h A: 12,582,912 U: 94% C: 76 H: 15 I: 11,837,440 P: 8%\n",
      " T: 100s P: 473M/h A: 13,631,488 U: 96% C: 67 H: 15 I: 13,164,544 P: 9%\n",
      " T: 110s P: 473M/h A: 14,680,064 U: 98% C: 72 H: 15 I: 14,471,168 P: 10%\n",
      " T: 120s P: 471M/h A: 15,728,640 U: 99% C: 73 H: 15 I: 15,724,544 P: 11%\n",
      " T: 130s P: 470M/h A: 17,825,792 U: 95% C: 66 H: 15 I: 16,982,016 P: 11%\n",
      " T: 140s P: 470M/h A: 18,874,368 U: 96% C: 74 H: 15 I: 18,288,640 P: 12%\n",
      " T: 150s P: 469M/h A: 19,922,944 U: 98% C: 67 H: 15 I: 19,554,304 P: 13%\n",
      " T: 160s P: 467M/h A: 20,971,520 U: 99% C: 72 H: 15 I: 20,799,488 P: 14%\n",
      " T: 170s P: 467M/h A: 22,020,096 U: 99% C: 67 H: 15 I: 22,056,960 P: 15%\n",
      " T: 180s P: 466M/h A: 24,117,248 U: 96% C: 65 H: 15 I: 23,302,144 P: 16%\n",
      " T: 190s P: 464M/h A: 25,165,824 U: 97% C: 69 H: 15 I: 24,539,136 P: 16%\n",
      " T: 200s P: 463M/h A: 26,214,400 U: 98% C: 66 H: 15 I: 25,776,128 P: 17%\n",
      " T: 210s P: 463M/h A: 27,262,976 U: 98% C: 72 H: 15 I: 27,009,024 P: 18%\n",
      " T: 220s P: 462M/h A: 28,311,552 U: 99% C: 69 H: 15 I: 28,286,976 P: 19%\n",
      " T: 230s P: 460M/h A: 29,360,128 U: 91% C: 68 H: 15 I: 29,446,144 P: 20%\n",
      " T: 240s P: 460M/h A: 29,360,128 U: 92% C: 67 H: 15 I: 30,674,944 P: 20%\n",
      " T: 250s P: 458M/h A: 29,360,128 U: 96% C: 67 H: 15 I: 31,838,208 P: 21%\n",
      " T: 260s P: 457M/h A: 30,408,704 U: 97% C: 79 H: 15 I: 33,071,104 P: 22%\n",
      " T: 270s P: 457M/h A: 31,457,280 U: 97% C: 70 H: 15 I: 34,312,192 P: 23%\n",
      " T: 280s P: 457M/h A: 32,505,856 U: 98% C: 73 H: 15 I: 35,602,432 P: 24%\n",
      " T: 290s P: 457M/h A: 33,554,432 U: 99% C: 73 H: 15 I: 36,872,192 P: 25%\n",
      " T: 300s P: 457M/h A: 34,603,008 U: 99% C: 65 H: 15 I: 38,158,336 P: 25%\n",
      " T: 310s P: 457M/h A: 36,700,160 U: 97% C: 71 H: 15 I: 39,387,136 P: 26%\n",
      " T: 320s P: 457M/h A: 37,748,736 U: 98% C: 67 H: 15 I: 40,656,896 P: 27%\n",
      " T: 330s P: 457M/h A: 38,797,312 U: 98% C: 72 H: 15 I: 41,918,464 P: 28%\n",
      " T: 340s P: 457M/h A: 39,845,888 U: 99% C: 72 H: 15 I: 43,167,744 P: 29%\n",
      " T: 350s P: 456M/h A: 40,894,464 U: 99% C: 67 H: 15 I: 44,417,024 P: 30%\n",
      " T: 360s P: 457M/h A: 42,991,616 U: 97% C: 71 H: 15 I: 45,723,648 P: 31%\n",
      " T: 370s P: 456M/h A: 44,040,192 U: 97% C: 65 H: 15 I: 46,968,832 P: 31%\n",
      " T: 380s P: 457M/h A: 45,088,768 U: 98% C: 74 H: 15 I: 48,316,416 P: 32%\n",
      " T: 390s P: 456M/h A: 46,137,344 U: 98% C: 72 H: 15 I: 49,483,776 P: 33%\n",
      " T: 400s P: 456M/h A: 47,185,920 U: 98% C: 68 H: 15 I: 50,716,672 P: 34%\n",
      " T: 410s P: 456M/h A: 48,234,496 U: 98% C: 76 H: 15 I: 51,970,048 P: 35%\n",
      " T: 420s P: 456M/h A: 49,283,072 U: 99% C: 74 H: 15 I: 53,202,944 P: 36%\n",
      " T: 430s P: 455M/h A: 50,331,648 U: 99% C: 84 H: 15 I: 54,452,224 P: 36%\n",
      " T: 440s P: 455M/h A: 51,380,224 U: 99% C: 66 H: 15 I: 55,676,928 P: 37%\n",
      " T: 450s P: 455M/h A: 53,477,376 U: 98% C: 65 H: 15 I: 56,881,152 P: 38%\n",
      " T: 460s P: 454M/h A: 54,525,952 U: 98% C: 76 H: 15 I: 58,052,608 P: 39%\n",
      " T: 470s P: 453M/h A: 54,525,952 U: 97% C: 72 H: 15 I: 59,174,912 P: 40%\n",
      " T: 480s P: 451M/h A: 54,525,952 U: 94% C: 79 H: 15 I: 60,252,160 P: 40%\n",
      " T: 490s P: 450M/h A: 54,525,952 U: 93% C: 67 H: 15 I: 61,296,640 P: 41%\n",
      " T: 500s P: 443M/h A: 54,525,952 U: 96% C: 72 H: 15 I: 61,587,456 P: 41%\n",
      " T: 510s P: 438M/h A: 56,623,104 U: 98% C: 83 H: 15 I: 62,054,400 P: 41%\n",
      " T: 520s P: 431M/h A: 56,623,104 U: 99% C: 87 H: 15 I: 62,345,216 P: 42%\n",
      " T: 530s P: 428M/h A: 58,720,256 U: 98% C: 66 H: 15 I: 63,098,880 P: 42%\n",
      " T: 540s P: 428M/h A: 58,720,256 U: 97% C: 71 H: 15 I: 64,241,664 P: 43%\n",
      " T: 550s P: 427M/h A: 59,768,832 U: 98% C: 67 H: 15 I: 65,236,992 P: 44%\n",
      " T: 560s P: 426M/h A: 59,768,832 U: 89% C: 75 H: 15 I: 66,342,912 P: 44%\n",
      " T: 570s P: 426M/h A: 59,768,832 U: 88% C: 66 H: 15 I: 67,477,504 P: 45%\n",
      " T: 580s P: 425M/h A: 59,768,832 U: 90% C: 67 H: 15 I: 68,579,328 P: 46%\n",
      " T: 590s P: 425M/h A: 59,768,832 U: 91% C: 65 H: 15 I: 69,738,496 P: 47%\n",
      " T: 600s P: 425M/h A: 59,768,832 U: 93% C: 68 H: 15 I: 70,856,704 P: 47%\n",
      " T: 610s P: 424M/h A: 59,768,832 U: 95% C: 66 H: 15 I: 71,970,816 P: 48%\n",
      " T: 620s P: 424M/h A: 59,768,832 U: 97% C: 67 H: 15 I: 73,084,928 P: 49%\n",
      " T: 630s P: 424M/h A: 59,768,832 U: 99% C: 69 H: 15 I: 74,240,000 P: 50%\n",
      " T: 640s P: 424M/h A: 60,817,408 U: 99% C: 74 H: 15 I: 75,403,264 P: 50%\n",
      " T: 650s P: 423M/h A: 60,817,408 U: 99% C: 70 H: 15 I: 76,521,472 P: 51%\n",
      " T: 660s P: 423M/h A: 61,865,984 U: 99% C: 73 H: 15 I: 77,627,392 P: 52%\n",
      " T: 670s P: 422M/h A: 61,865,984 U: 98% C: 66 H: 15 I: 78,688,256 P: 53%\n",
      " T: 680s P: 422M/h A: 62,914,560 U: 98% C: 66 H: 15 I: 79,757,312 P: 53%\n",
      " T: 690s P: 421M/h A: 62,914,560 U: 99% C: 68 H: 15 I: 80,846,848 P: 54%\n",
      " T: 700s P: 421M/h A: 63,963,136 U: 99% C: 66 H: 15 I: 81,960,960 P: 55%\n",
      " T: 710s P: 421M/h A: 65,011,712 U: 98% C: 66 H: 15 I: 83,058,688 P: 55%\n",
      " T: 720s P: 420M/h A: 66,060,288 U: 98% C: 65 H: 15 I: 84,185,088 P: 56%\n",
      " T: 730s P: 420M/h A: 67,108,864 U: 99% C: 67 H: 15 I: 85,254,144 P: 57%\n",
      " T: 740s P: 419M/h A: 68,157,440 U: 99% C: 65 H: 15 I: 86,331,392 P: 58%\n",
      " T: 750s P: 419M/h A: 69,206,016 U: 99% C: 65 H: 15 I: 87,437,312 P: 58%\n",
      " T: 760s P: 419M/h A: 70,254,592 U: 99% C: 66 H: 15 I: 88,567,808 P: 59%\n",
      " T: 770s P: 419M/h A: 71,303,168 U: 99% C: 67 H: 15 I: 89,694,208 P: 60%\n",
      " T: 780s P: 418M/h A: 72,351,744 U: 97% C: 67 H: 15 I: 90,755,072 P: 61%\n",
      " T: 790s P: 418M/h A: 72,351,744 U: 98% C: 68 H: 15 I: 91,750,400 P: 61%\n",
      " T: 800s P: 417M/h A: 74,448,896 U: 99% C: 66 H: 15 I: 92,704,768 P: 62%\n",
      " T: 810s P: 412M/h A: 75,497,472 U: 99% C: 67 H: 15 I: 92,704,768 P: 62%\n",
      " T: 820s P: 410M/h A: 76,546,048 U: 99% C: 68 H: 15 I: 93,483,008 P: 62%\n",
      " T: 830s P: 408M/h A: 77,594,624 U: 98% C: 70 H: 15 I: 94,224,384 P: 63%\n",
      " T: 840s P: 405M/h A: 77,594,624 U: 99% C: 65 H: 15 I: 94,621,696 P: 63%\n",
      " T: 850s P: 401M/h A: 77,594,624 U: 99% C: 66 H: 15 I: 94,699,520 P: 63%\n",
      " T: 860s P: 397M/h A: 78,643,200 U: 98% C: 68 H: 15 I: 94,961,664 P: 63%\n",
      " T: 870s P: 393M/h A: 78,643,200 U: 98% C: 68 H: 15 I: 95,158,272 P: 64%\n",
      " T: 880s P: 390M/h A: 78,643,200 U: 99% C: 69 H: 15 I: 95,404,032 P: 64%\n",
      " T: 890s P: 389M/h A: 79,691,776 U: 99% C: 70 H: 15 I: 96,370,688 P: 64%\n",
      " T: 900s P: 386M/h A: 84,934,656 U: 99% C: 67 H: 15 I: 96,739,328 P: 65%\n",
      " T: 910s P: 382M/h A: 84,934,656 U: 99% C: 67 H: 15 I: 96,739,328 P: 65%\n",
      " T: 920s P: 378M/h A: 84,934,656 U: 98% C: 66 H: 15 I: 96,739,328 P: 65%\n",
      " T: 930s P: 374M/h A: 84,934,656 U: 98% C: 66 H: 15 I: 96,739,328 P: 65%\n",
      " T: 940s P: 370M/h A: 85,983,232 U: 99% C: 67 H: 15 I: 96,833,536 P: 65%\n",
      " T: 950s P: 367M/h A: 85,983,232 U: 99% C: 68 H: 15 I: 96,858,112 P: 65%\n",
      " T: 960s P: 364M/h A: 87,031,808 U: 98% C: 72 H: 15 I: 97,157,120 P: 65%\n",
      " T: 970s P: 362M/h A: 87,031,808 U: 99% C: 74 H: 15 I: 97,804,288 P: 65%\n",
      " T: 980s P: 361M/h A: 88,080,384 U: 99% C: 78 H: 15 I: 98,426,880 P: 66%\n",
      " T: 990s P: 360M/h A: 88,080,384 U: 99% C: 66 H: 15 I: 99,024,896 P: 66%\n",
      " T: 1,000s P: 358M/h A: 89,128,960 U: 99% C: 67 H: 15 I: 99,700,736 P: 67%\n",
      " T: 1,010s P: 357M/h A: 90,177,536 U: 98% C: 67 H: 15 I: 100,384,768 P: 67%\n",
      " T: 1,020s P: 357M/h A: 90,177,536 U: 99% C: 66 H: 15 I: 101,179,392 P: 68%\n",
      " T: 1,030s P: 355M/h A: 91,226,112 U: 99% C: 66 H: 15 I: 101,683,200 P: 68%\n",
      " T: 1,040s P: 354M/h A: 91,226,112 U: 99% C: 66 H: 15 I: 102,334,464 P: 68%\n",
      " T: 1,050s P: 353M/h A: 92,274,688 U: 99% C: 66 H: 15 I: 102,989,824 P: 69%\n",
      " T: 1,060s P: 351M/h A: 93,323,264 U: 98% C: 67 H: 15 I: 103,542,784 P: 69%\n",
      " T: 1,070s P: 350M/h A: 93,323,264 U: 99% C: 71 H: 15 I: 104,181,760 P: 70%\n",
      " T: 1,080s P: 348M/h A: 94,371,840 U: 99% C: 79 H: 15 I: 104,566,784 P: 70%\n",
      " T: 1,090s P: 347M/h A: 94,371,840 U: 99% C: 66 H: 15 I: 105,099,264 P: 70%\n",
      " T: 1,100s P: 346M/h A: 94,371,840 U: 98% C: 68 H: 15 I: 105,750,528 P: 71%\n",
      " T: 1,110s P: 345M/h A: 94,371,840 U: 99% C: 72 H: 15 I: 106,520,576 P: 71%\n",
      " T: 1,120s P: 344M/h A: 95,420,416 U: 99% C: 67 H: 15 I: 107,163,648 P: 72%\n",
      " T: 1,130s P: 343M/h A: 95,420,416 U: 99% C: 66 H: 15 I: 107,667,456 P: 72%\n",
      " T: 1,140s P: 342M/h A: 95,420,416 U: 99% C: 66 H: 15 I: 108,314,624 P: 72%\n",
      " T: 1,150s P: 341M/h A: 96,468,992 U: 99% C: 67 H: 15 I: 109,088,768 P: 73%\n",
      " T: 1,160s P: 340M/h A: 97,517,568 U: 99% C: 65 H: 15 I: 109,752,320 P: 73%\n",
      " T: 1,170s P: 339M/h A: 98,566,144 U: 98% C: 68 H: 15 I: 110,493,696 P: 74%\n",
      " T: 1,180s P: 337M/h A: 98,566,144 U: 99% C: 68 H: 15 I: 110,768,128 P: 74%\n",
      " T: 1,190s P: 336M/h A: 98,566,144 U: 99% C: 68 H: 15 I: 111,083,520 P: 74%\n",
      " T: 1,200s P: 334M/h A: 99,614,720 U: 99% C: 66 H: 15 I: 111,628,288 P: 75%\n",
      " T: 1,210s P: 334M/h A: 99,614,720 U: 99% C: 68 H: 15 I: 112,291,840 P: 75%\n",
      " T: 1,220s P: 332M/h A: 100,663,296 U: 99% C: 69 H: 15 I: 112,848,896 P: 75%\n",
      " T: 1,230s P: 331M/h A: 100,663,296 U: 99% C: 69 H: 15 I: 113,418,240 P: 76%\n",
      " T: 1,240s P: 331M/h A: 101,711,872 U: 99% C: 66 H: 15 I: 114,024,448 P: 76%\n",
      " T: 1,250s P: 330M/h A: 101,711,872 U: 95% C: 66 H: 15 I: 114,610,176 P: 77%\n",
      " T: 1,260s P: 329M/h A: 101,711,872 U: 95% C: 66 H: 15 I: 115,224,576 P: 77%\n",
      " T: 1,270s P: 328M/h A: 101,711,872 U: 96% C: 65 H: 15 I: 115,875,840 P: 77%\n",
      " T: 1,280s P: 327M/h A: 101,711,872 U: 96% C: 67 H: 15 I: 116,531,200 P: 78%\n",
      " T: 1,290s P: 327M/h A: 101,711,872 U: 97% C: 72 H: 15 I: 117,338,112 P: 78%\n",
      " T: 1,300s P: 325M/h A: 101,711,872 U: 97% C: 66 H: 15 I: 117,694,464 P: 79%\n",
      " T: 1,310s P: 324M/h A: 101,711,872 U: 97% C: 71 H: 15 I: 118,022,144 P: 79%\n",
      " T: 1,320s P: 323M/h A: 101,711,872 U: 98% C: 72 H: 15 I: 118,435,840 P: 79%\n",
      " T: 1,330s P: 322M/h A: 101,711,872 U: 98% C: 77 H: 15 I: 119,046,144 P: 80%\n",
      " T: 1,340s P: 321M/h A: 101,711,872 U: 99% C: 65 H: 15 I: 119,783,424 P: 80%\n",
      " T: 1,350s P: 321M/h A: 102,760,448 U: 99% C: 69 H: 15 I: 120,700,928 P: 81%\n",
      " T: 1,360s P: 321M/h A: 103,809,024 U: 99% C: 72 H: 15 I: 121,516,032 P: 81%\n",
      " T: 1,370s P: 321M/h A: 104,857,600 U: 99% C: 70 H: 15 I: 122,363,904 P: 82%\n",
      " T: 1,380s P: 321M/h A: 104,857,600 U: 99% C: 73 H: 15 I: 123,215,872 P: 82%\n",
      " T: 1,390s P: 321M/h A: 105,906,176 U: 99% C: 65 H: 15 I: 124,084,224 P: 83%\n",
      " T: 1,400s P: 321M/h A: 106,954,752 U: 99% C: 69 H: 15 I: 124,923,904 P: 83%\n",
      " T: 1,410s P: 320M/h A: 108,003,328 U: 99% C: 75 H: 15 I: 125,497,344 P: 84%\n",
      " T: 1,420s P: 318M/h A: 113,246,208 U: 99% C: 76 H: 15 I: 125,566,976 P: 84%\n",
      " T: 1,430s P: 316M/h A: 113,246,208 U: 99% C: 76 H: 15 I: 125,566,976 P: 84%\n",
      " T: 1,440s P: 313M/h A: 113,246,208 U: 99% C: 76 H: 15 I: 125,566,976 P: 84%\n",
      " T: 1,450s P: 311M/h A: 114,294,784 U: 99% C: 77 H: 15 I: 125,566,976 P: 84%\n",
      " T: 1,460s P: 309M/h A: 114,294,784 U: 99% C: 81 H: 15 I: 125,644,800 P: 84%\n",
      " T: 1,470s P: 309M/h A: 115,343,360 U: 99% C: 68 H: 15 I: 126,259,200 P: 84%\n",
      " T: 1,480s P: 308M/h A: 115,343,360 U: 99% C: 72 H: 15 I: 126,861,312 P: 85%\n",
      " T: 1,490s P: 308M/h A: 116,391,936 U: 99% C: 73 H: 15 I: 127,614,976 P: 85%\n",
      " T: 1,500s P: 308M/h A: 117,440,512 U: 99% C: 67 H: 15 I: 128,376,832 P: 86%\n",
      " T: 1,510s P: 307M/h A: 117,440,512 U: 99% C: 74 H: 15 I: 129,015,808 P: 86%\n",
      " T: 1,520s P: 307M/h A: 118,489,088 U: 99% C: 81 H: 15 I: 129,769,472 P: 87%\n",
      " T: 1,530s P: 307M/h A: 118,489,088 U: 99% C: 67 H: 15 I: 130,527,232 P: 87%\n",
      " T: 1,540s P: 305M/h A: 118,489,088 U: 99% C: 68 H: 15 I: 130,793,472 P: 87%\n",
      " T: 1,550s P: 303M/h A: 118,489,088 U: 99% C: 68 H: 15 I: 130,793,472 P: 87%\n",
      " T: 1,560s P: 301M/h A: 118,489,088 U: 99% C: 68 H: 15 I: 130,793,472 P: 87%\n",
      " T: 1,570s P: 299M/h A: 118,489,088 U: 99% C: 68 H: 15 I: 130,793,472 P: 87%\n",
      " T: 1,580s P: 298M/h A: 118,489,088 U: 99% C: 68 H: 15 I: 130,793,472 P: 87%\n",
      " T: 1,590s P: 296M/h A: 118,489,088 U: 99% C: 68 H: 15 I: 130,793,472 P: 87%\n",
      " T: 1,600s P: 294M/h A: 118,489,088 U: 99% C: 68 H: 15 I: 130,793,472 P: 87%\n",
      " T: 1,610s P: 292M/h A: 118,489,088 U: 99% C: 68 H: 15 I: 130,793,472 P: 87%\n",
      " T: 1,620s P: 290M/h A: 118,489,088 U: 99% C: 68 H: 15 I: 130,793,472 P: 87%\n",
      " T: 1,630s P: 288M/h A: 118,489,088 U: 99% C: 68 H: 15 I: 130,793,472 P: 87%\n",
      " T: 1,640s P: 287M/h A: 118,489,088 U: 99% C: 68 H: 15 I: 130,793,472 P: 87%\n",
      " T: 1,650s P: 286M/h A: 119,537,664 U: 99% C: 69 H: 15 I: 131,371,008 P: 88%\n",
      " T: 1,660s P: 286M/h A: 120,586,240 U: 99% C: 71 H: 15 I: 132,120,576 P: 88%\n",
      " T: 1,670s P: 286M/h A: 120,586,240 U: 98% C: 70 H: 15 I: 132,919,296 P: 89%\n",
      " T: 1,680s P: 286M/h A: 120,586,240 U: 95% C: 76 H: 15 I: 133,685,248 P: 89%\n",
      " T: 1,690s P: 286M/h A: 120,586,240 U: 95% C: 65 H: 15 I: 134,520,832 P: 90%\n",
      " T: 1,700s P: 286M/h A: 120,586,240 U: 96% C: 69 H: 15 I: 135,356,416 P: 90%\n",
      " T: 1,710s P: 286M/h A: 120,586,240 U: 97% C: 69 H: 15 I: 136,179,712 P: 91%\n",
      " T: 1,720s P: 286M/h A: 120,586,240 U: 97% C: 67 H: 15 I: 136,994,816 P: 91%\n",
      " T: 1,730s P: 286M/h A: 120,586,240 U: 98% C: 68 H: 15 I: 137,809,920 P: 92%\n",
      " T: 1,740s P: 286M/h A: 120,586,240 U: 99% C: 70 H: 15 I: 138,653,696 P: 93%\n",
      " T: 1,750s P: 286M/h A: 120,586,240 U: 99% C: 68 H: 15 I: 139,436,032 P: 93%\n",
      " T: 1,760s P: 286M/h A: 121,634,816 U: 99% C: 71 H: 15 I: 140,226,560 P: 94%\n",
      " T: 1,770s P: 286M/h A: 122,683,392 U: 99% C: 69 H: 15 I: 141,037,568 P: 94%\n",
      " T: 1,780s P: 286M/h A: 123,731,968 U: 99% C: 75 H: 15 I: 141,832,192 P: 95%\n",
      " T: 1,790s P: 286M/h A: 123,731,968 U: 99% C: 79 H: 15 I: 142,639,104 P: 95%\n",
      " T: 1,800s P: 286M/h A: 124,780,544 U: 97% C: 67 H: 15 I: 143,417,344 P: 96%\n",
      " T: 1,810s P: 286M/h A: 124,780,544 U: 97% C: 69 H: 15 I: 144,224,256 P: 96%\n",
      " T: 1,820s P: 286M/h A: 124,780,544 U: 98% C: 72 H: 15 I: 144,973,824 P: 97%\n",
      " T: 1,830s P: 286M/h A: 124,780,544 U: 99% C: 70 H: 15 I: 145,735,680 P: 97%\n",
      " T: 1,840s P: 286M/h A: 124,780,544 U: 99% C: 73 H: 15 I: 146,530,304 P: 98%\n",
      " T: 1,850s P: 286M/h A: 125,829,120 U: 99% C: 67 H: 15 I: 147,333,120 P: 98%\n",
      " T: 1,860s P: 286M/h A: 126,877,696 U: 99% C: 75 H: 15 I: 148,156,416 P: 99%\n",
      " T: 1,870s P: 286M/h A: 126,877,696 U: 99% C: 82 H: 15 I: 148,959,232 P: 99%\n",
      "Exception in pool task: writers.las: Unable to convert scaled value (3364265025) to int32 for dimension 'Y' when writing LAS/LAZ file data/entwine/hannigan/349525.laz.\n",
      " T: 1,880s P: 286M/h A: 127,926,272 U: 99% C: 67 H: 15 I: 149,737,709 P: 100%\n",
      " T: 1,890s P: 285M/h A: 127,926,272 U: 99% C: 61 H: 15 I: 149,737,709 P: 100%\n",
      " T: 1,900s P: 283M/h A: 127,926,272 U: 99% C: 61 H: 15 I: 149,737,709 P: 100%\n",
      " T: 1,910s P: 282M/h A: 127,926,272 U: 99% C: 61 H: 15 I: 149,737,709 P: 100%\n",
      " T: 1,920s P: 280M/h A: 127,926,272 U: 97% C: 60 H: 15 I: 149,737,709 P: 100%\n",
      " T: 1,930s P: 279M/h A: 127,926,272 U: 97% C: 60 H: 15 I: 149,737,709 P: 100%\n",
      " T: 1,940s P: 277M/h A: 127,926,272 U: 97% C: 60 H: 15 I: 149,737,709 P: 100%\n",
      " T: 1,950s P: 276M/h A: 127,926,272 U: 97% C: 60 H: 15 I: 149,737,709 P: 100%\n",
      " T: 1,960s P: 275M/h A: 127,926,272 U: 97% C: 60 H: 15 I: 149,737,709 P: 100%\n",
      " T: 1,970s P: 273M/h A: 127,926,272 U: 93% C: 60 H: 15 I: 149,737,709 P: 100%\n",
      " T: 1,980s P: 272M/h A: 127,926,272 U: 93% C: 59 H: 15 I: 149,737,709 P: 100%\n",
      " T: 1,990s P: 270M/h A: 127,926,272 U: 93% C: 59 H: 15 I: 149,737,709 P: 100%\n",
      " T: 2,000s P: 269M/h A: 127,926,272 U: 63% C: 57 H: 15 I: 149,737,709 P: 100%\n",
      " T: 2,010s P: 268M/h A: 127,926,272 U: 3% C: 57 H: 15 I: 149,737,709 P: 100%\n",
      "\tDone 0\n",
      "Saving hierarchy...\n",
      " T: 2,020s P: 266M/h A: 127,926,272 U: 0% C: 2 H: 15 I: 149,737,709 P: 100%\n",
      "Saving registry...\n",
      "Saving metadata...\n",
      "\n",
      "Index completed in 2,026 seconds.\n",
      "Save complete.  Indexing stats:\n",
      "\tPoints inserted: 149,737,709\n",
      "\tPoints discarded:\n",
      "\t\tOutside specified bounds: 0\n",
      "\t\tOverflow past max depth: 0\n",
      "\n"
     ]
    }
   ],
   "source": [
    "docker run -it -v /home/tswetnam/:/data connormanning/entwine build \\\n",
    "    -i data/hannigan_meadow_ultra_high.laz \\\n",
    "    -o data/entwine/hannigan"
   ]
  },
  {
   "cell_type": "code",
   "execution_count": 3,
   "metadata": {},
   "outputs": [
    {
     "name": "stdout",
     "output_type": "stream",
     "text": [
      "Performing dataset inference...\n",
      "1 / 1: data/hannigan_meadow_ultra_high.laz\n",
      "Inferred: [(-12170407, 3979519.3, 2733.991), (-12169473, 3980935, 2846.353)]\n",
      "\n",
      "Version: 1.1.0\n",
      "Input:\n",
      "\tFile: data/hannigan_meadow_ultra_high.laz\n",
      "\tPoint count hint: 149,737,709 points\n",
      "\tDensity estimate (per square unit): 113.231\n",
      "\tThreads: 16\n",
      "Output:\n",
      "\tOutput path: data/entwine/hannigan_web_mercator/\n",
      "\tData storage: laszip\n",
      "\tScale: 0.001\n",
      "\tOffset: (-12169920, 3980230, 2800)\n",
      "\tXYZ width: 4\n",
      "Metadata:\n",
      "\tNative bounds: [(-12170407, 3979519.3, 2733.991), (-12169473, 3980935, 2846.353)]\n",
      "\tCubic bounds: [(-12170650, 3979500, 2070), (-12169190, 3980960, 3530)]\n",
      "\tReprojection: (from file headers) -> EPSG:3857\n",
      "\tStoring dimensions: [\n",
      "\t\tX, Y, Z, Intensity, ReturnNumber\n",
      "\t\tNumberOfReturns, ScanDirectionFlag, EdgeOfFlightLine, Classification, ScanAngleRank\n",
      "\t\tUserData, PointSourceId, Red, Green, Blue\n",
      "\t\tOriginId\n",
      "\t]\n",
      "\n",
      "Adding 0 - data/hannigan_meadow_ultra_high.laz\n",
      "\tPushes complete - joining...\n",
      " T: 10s P: 1,169M/h A: 4,194,304 U: 77% C: 120 H: 1 I: 3,248,128 P: 2%\n",
      " T: 20s P: 1,133M/h A: 6,291,456 U: 84% C: 104 H: 1 I: 6,299,648 P: 4%\n",
      " T: 30s P: 1,091M/h A: 7,340,032 U: 65% C: 140 H: 1 I: 9,093,120 P: 6%\n",
      " T: 40s P: 920M/h A: 9,437,184 U: 92% C: 193 H: 1 I: 10,227,712 P: 7%\n",
      " T: 50s P: 878M/h A: 10,485,760 U: 94% C: 172 H: 2 I: 12,201,984 P: 8%\n",
      " T: 60s P: 847M/h A: 11,534,336 U: 92% C: 119 H: 2 I: 14,123,008 P: 9%\n",
      " T: 70s P: 823M/h A: 11,534,336 U: 81% C: 102 H: 2 I: 16,019,456 P: 11%\n",
      " T: 80s P: 838M/h A: 11,534,336 U: 74% C: 94 H: 2 I: 18,624,512 P: 12%\n",
      " T: 90s P: 845M/h A: 11,534,336 U: 67% C: 67 H: 2 I: 21,131,264 P: 14%\n",
      " T: 100s P: 853M/h A: 11,534,336 U: 71% C: 70 H: 2 I: 23,707,648 P: 16%\n",
      " T: 110s P: 871M/h A: 11,534,336 U: 76% C: 77 H: 2 I: 26,636,288 P: 18%\n",
      " T: 120s P: 862M/h A: 11,534,336 U: 68% C: 117 H: 2 I: 28,753,920 P: 19%\n",
      " T: 130s P: 873M/h A: 11,534,336 U: 57% C: 72 H: 2 I: 31,547,392 P: 21%\n",
      " T: 140s P: 880M/h A: 11,534,336 U: 47% C: 73 H: 2 I: 34,254,848 P: 23%\n",
      " T: 150s P: 865M/h A: 11,534,336 U: 55% C: 79 H: 2 I: 36,073,472 P: 24%\n",
      " T: 160s P: 861M/h A: 11,534,336 U: 60% C: 74 H: 2 I: 38,281,216 P: 26%\n",
      " T: 170s P: 866M/h A: 11,534,336 U: 73% C: 76 H: 2 I: 40,906,752 P: 27%\n",
      " T: 180s P: 867M/h A: 11,534,336 U: 81% C: 89 H: 2 I: 43,356,160 P: 29%\n",
      " T: 190s P: 873M/h A: 11,534,336 U: 89% C: 100 H: 2 I: 46,084,096 P: 31%\n",
      " T: 200s P: 873M/h A: 11,534,336 U: 50% C: 78 H: 2 I: 48,533,504 P: 32%\n",
      " T: 210s P: 876M/h A: 11,534,336 U: 54% C: 79 H: 3 I: 51,150,848 P: 34%\n",
      " T: 220s P: 878M/h A: 11,534,336 U: 45% C: 85 H: 3 I: 53,706,752 P: 36%\n",
      " T: 230s P: 882M/h A: 11,534,336 U: 50% C: 80 H: 3 I: 56,406,016 P: 38%\n",
      " T: 240s P: 882M/h A: 11,534,336 U: 56% C: 83 H: 3 I: 58,830,848 P: 39%\n",
      " T: 250s P: 884M/h A: 11,534,336 U: 39% C: 75 H: 3 I: 61,431,808 P: 41%\n",
      " T: 260s P: 870M/h A: 11,534,336 U: 69% C: 122 H: 3 I: 62,881,792 P: 42%\n",
      " T: 270s P: 868M/h A: 11,534,336 U: 77% C: 107 H: 3 I: 65,114,112 P: 43%\n",
      " T: 280s P: 866M/h A: 11,534,336 U: 67% C: 70 H: 3 I: 67,399,680 P: 45%\n",
      " T: 290s P: 859M/h A: 11,534,336 U: 87% C: 91 H: 3 I: 69,218,304 P: 46%\n",
      " T: 300s P: 864M/h A: 12,582,912 U: 80% C: 72 H: 3 I: 72,060,928 P: 48%\n",
      " T: 310s P: 857M/h A: 12,582,912 U: 53% C: 73 H: 3 I: 73,842,688 P: 49%\n",
      " T: 320s P: 848M/h A: 12,582,912 U: 83% C: 108 H: 3 I: 75,403,264 P: 50%\n",
      " T: 330s P: 844M/h A: 12,582,912 U: 84% C: 105 H: 3 I: 77,455,360 P: 52%\n",
      " T: 340s P: 847M/h A: 12,582,912 U: 75% C: 74 H: 3 I: 80,044,032 P: 53%\n",
      " T: 350s P: 845M/h A: 12,582,912 U: 78% C: 80 H: 3 I: 82,178,048 P: 55%\n",
      " T: 360s P: 849M/h A: 12,582,912 U: 69% C: 77 H: 3 I: 84,926,464 P: 57%\n",
      " T: 370s P: 842M/h A: 12,582,912 U: 47% C: 69 H: 3 I: 86,552,576 P: 58%\n",
      " T: 380s P: 844M/h A: 12,582,912 U: 63% C: 77 H: 4 I: 89,169,920 P: 60%\n",
      " T: 390s P: 840M/h A: 12,582,912 U: 73% C: 78 H: 4 I: 91,021,312 P: 61%\n",
      " T: 400s P: 838M/h A: 12,582,912 U: 66% C: 80 H: 4 I: 93,114,368 P: 62%\n",
      " T: 410s P: 833M/h A: 12,582,912 U: 67% C: 89 H: 4 I: 94,883,840 P: 63%\n",
      " T: 420s P: 832M/h A: 12,582,912 U: 54% C: 73 H: 4 I: 97,099,776 P: 65%\n",
      " T: 430s P: 835M/h A: 12,582,912 U: 58% C: 70 H: 4 I: 99,770,368 P: 67%\n",
      " T: 440s P: 839M/h A: 12,582,912 U: 79% C: 95 H: 4 I: 102,617,088 P: 69%\n",
      " T: 450s P: 841M/h A: 12,582,912 U: 64% C: 76 H: 4 I: 105,234,432 P: 70%\n",
      " T: 460s P: 837M/h A: 12,582,912 U: 73% C: 77 H: 5 I: 107,077,632 P: 72%\n",
      " T: 470s P: 831M/h A: 12,582,912 U: 86% C: 101 H: 5 I: 108,589,056 P: 73%\n",
      " T: 480s P: 832M/h A: 12,582,912 U: 78% C: 89 H: 5 I: 110,993,408 P: 74%\n",
      " T: 490s P: 830M/h A: 12,582,912 U: 82% C: 89 H: 5 I: 113,098,752 P: 76%\n",
      " T: 500s P: 832M/h A: 12,582,912 U: 85% C: 99 H: 5 I: 115,564,544 P: 77%\n",
      " T: 510s P: 830M/h A: 12,582,912 U: 72% C: 87 H: 5 I: 117,616,640 P: 79%\n",
      " T: 520s P: 821M/h A: 12,582,912 U: 89% C: 122 H: 5 I: 118,669,312 P: 79%\n",
      " T: 530s P: 814M/h A: 12,582,912 U: 62% C: 75 H: 5 I: 119,848,960 P: 80%\n",
      " T: 540s P: 812M/h A: 12,582,912 U: 82% C: 96 H: 5 I: 121,868,288 P: 81%\n",
      " T: 550s P: 809M/h A: 12,582,912 U: 86% C: 127 H: 5 I: 123,625,472 P: 83%\n",
      " T: 560s P: 808M/h A: 12,582,912 U: 72% C: 140 H: 5 I: 125,779,968 P: 84%\n",
      " T: 570s P: 808M/h A: 12,582,912 U: 69% C: 158 H: 5 I: 128,012,288 P: 85%\n",
      " T: 580s P: 810M/h A: 12,582,912 U: 49% C: 88 H: 5 I: 130,523,136 P: 87%\n",
      " T: 590s P: 813M/h A: 12,582,912 U: 60% C: 83 H: 5 I: 133,332,992 P: 89%\n",
      " T: 600s P: 814M/h A: 12,582,912 U: 58% C: 100 H: 5 I: 135,708,672 P: 91%\n",
      " T: 610s P: 817M/h A: 12,582,912 U: 71% C: 88 H: 5 I: 138,522,624 P: 93%\n",
      " T: 620s P: 817M/h A: 12,582,912 U: 76% C: 86 H: 5 I: 140,779,520 P: 94%\n",
      " T: 630s P: 815M/h A: 12,582,912 U: 69% C: 102 H: 5 I: 142,684,160 P: 95%\n",
      " T: 640s P: 816M/h A: 12,582,912 U: 58% C: 69 H: 5 I: 145,117,184 P: 97%\n",
      " T: 650s P: 816M/h A: 12,582,912 U: 60% C: 82 H: 5 I: 147,496,960 P: 99%\n",
      " T: 660s P: 816M/h A: 12,582,912 U: 59% C: 76 H: 5 I: 149,737,472 P: 100%\n",
      "\tDone 0\n",
      "Saving hierarchy...\n",
      "Saving registry...\n",
      "Saving metadata...\n",
      "\n",
      "Index completed in 666 seconds.\n",
      "Save complete.  Indexing stats:\n",
      "\tPoints inserted: 149,737,709\n",
      "\tPoints discarded:\n",
      "\t\tOutside specified bounds: 0\n",
      "\t\tOverflow past max depth: 0\n",
      "\n"
     ]
    }
   ],
   "source": [
    "docker run -it \\\n",
    "    -v $HOME/QUBES_NEON/pdal:/pdal_files \\\n",
    "    -v /home/tswetnam/:/data \\\n",
    "    connormanning/entwine build \\\n",
    "    pdal_files/web-mercator.json \\\n",
    "    -s 0.001 \\\n",
    "    -i data/hannigan_meadow_ultra_high.laz \\\n",
    "    -o data/entwine/hannigan_web_mercator"
   ]
  },
  {
   "cell_type": "markdown",
   "metadata": {},
   "source": [
    "View the data using Entwine Potree viewer http://potree.entwine.io/data/custom.html?s=%22128.196.38.73:8080%22&r=%22hannigan_web_mercator%22"
   ]
  },
  {
   "cell_type": "markdown",
   "metadata": {},
   "source": [
    "Alternately, you can use PotreeConverter to generate a Potree native point cloud and host it on your own webservice"
   ]
  },
  {
   "cell_type": "code",
   "execution_count": null,
   "metadata": {},
   "outputs": [],
   "source": [
    "docker run \\\n",
    "-v /vol_c/white_mountains/:/input \\\n",
    "-v /vol_c/white_mountains/potree/:/output \\\n",
    "potreeconverter PotreeConverter /input \\\n",
    "-p 4fri \\\n",
    "-o /output/4fri \\\n",
    "--output-format LAZ \\\n",
    "--overwrite\n",
    "--title \"4FRI\"\n",
    "--description \"lidar data over the Mogollon Rim, Arizona\""
   ]
  }
 ],
 "metadata": {
  "kernelspec": {
   "display_name": "Bash",
   "language": "bash",
   "name": "bash"
  },
  "language_info": {
   "codemirror_mode": "shell",
   "file_extension": ".sh",
   "mimetype": "text/x-sh",
   "name": "bash"
  }
 },
 "nbformat": 4,
 "nbformat_minor": 2
}
