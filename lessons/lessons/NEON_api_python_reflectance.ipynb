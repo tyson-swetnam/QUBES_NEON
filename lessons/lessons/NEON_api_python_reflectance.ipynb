{
 "cells": [
  {
   "cell_type": "code",
   "execution_count": null,
   "metadata": {
    "collapsed": true
   },
   "outputs": [],
   "source": [
    "#!/usr/bin/env python3\n",
    "import requests\n",
    "import json\n",
    "import os\n",
    "import time\n",
    "\n",
    "SITECODE = \"SRER\" #the site code for Santa Rita Experimental Range\n",
    "SERVER = \"http://data.neonscience.org/api/v0/\" #the current server address"
   ]
  },
  {
   "cell_type": "code",
   "execution_count": null,
   "metadata": {
    "collapsed": true
   },
   "outputs": [],
   "source": []
  },
  {
   "cell_type": "code",
   "execution_count": null,
   "metadata": {
    "scrolled": true
   },
   "outputs": [],
   "source": [
    "site_response = requests.get(SERVER + 'sites/' + SITECODE)\n",
    "site_response_json = site_response.json()\n",
    "print(json.dumps(site_response_json, indent=2)) #using json.dumps for formatting"
   ]
  },
  {
   "cell_type": "code",
   "execution_count": null,
   "metadata": {},
   "outputs": [],
   "source": [
    "PRODUCTCODE = \"DP1.30006.001\" #the product code for \"Spectrometer orthorectified surface directional reflectance - flightline\"\n",
    "\n",
    "data_products = site_response_json['data']['dataProducts']\n",
    "\n",
    "#use a list comprehension here if you're feeling fancy\n",
    "for data_product in data_products:\n",
    "    if (data_product['dataProductCode'] == PRODUCTCODE):\n",
    "        months = data_product['availableMonths']\n",
    "\n",
    "print(months)"
   ]
  },
  {
   "cell_type": "code",
   "execution_count": null,
   "metadata": {},
   "outputs": [],
   "source": [
    "data_response = requests.get(SERVER + 'data/' + PRODUCTCODE + '/' + SITECODE + '/' + '2017-08')\n",
    "data_response_json = data_response.json()\n",
    "print(json.dumps(data_response_json, indent=2))"
   ]
  },
  {
   "cell_type": "code",
   "execution_count": null,
   "metadata": {},
   "outputs": [],
   "source": [
    "print(\"number of files in dataset: \")\n",
    "number_files = print(len(data_response_json[\"data\"][\"files\"][0][\"url\"]))"
   ]
  },
  {
   "cell_type": "code",
   "execution_count": null,
   "metadata": {},
   "outputs": [],
   "source": [
    "data_url = data_response_json[\"data\"][\"files\"][0][\"url\"]\n",
    "data_name = data_response_json[\"data\"][\"files\"][0][\"name\"]\n",
    "data_size = data_response_json[\"data\"][\"files\"][0][\"size\"]\n",
    "print(json.dumps(data_url, indent=0))\n",
    "print(json.dumps(data_name, indent=0))\n",
    "print(json.dumps(data_size, indent=0))"
   ]
  },
  {
   "cell_type": "code",
   "execution_count": null,
   "metadata": {},
   "outputs": [],
   "source": [
    "print(data_url)"
   ]
  },
  {
   "cell_type": "code",
   "execution_count": null,
   "metadata": {},
   "outputs": [],
   "source": [
    "path = '/vol_c/srer/reflectance/' + data_name\n",
    "print(path)"
   ]
  },
  {
   "cell_type": "code",
   "execution_count": null,
   "metadata": {
    "collapsed": true
   },
   "outputs": [],
   "source": [
    "def convert_bytes(num):\n",
    "    \"\"\"\n",
    "    this function will convert bytes to MB.... GB... etc\n",
    "    \"\"\"\n",
    "    for x in ['bytes', 'KB', 'MB', 'GB', 'TB']:\n",
    "        if num < 1024.0:\n",
    "            return \"%3.1f %s\" % (num, x)\n",
    "        num /= 1024.0\n",
    "\n",
    "def file_size(file_path):\n",
    "    \"\"\"\n",
    "    this function will return the file size\n",
    "    \"\"\"\n",
    "    if os.path.isfile(file_path):\n",
    "        file_info = os.stat(file_path)\n",
    "        return convert_bytes(file_info.st_size)"
   ]
  },
  {
   "cell_type": "code",
   "execution_count": null,
   "metadata": {
    "scrolled": true
   },
   "outputs": [],
   "source": [
    "data_response = requests.get(SERVER + 'data/' + PRODUCTCODE + '/' + SITECODE + '/' + '2017-08')\n",
    "data_response_json = data_response.json()\n",
    "data_url = data_response_json[\"data\"][\"files\"][0][\"url\"] \n",
    "print(\"Data URL: \" + data_url)\n",
    "data_name = data_response_json[\"data\"][\"files\"][0][\"name\"]\n",
    "data_size = data_response_json[\"data\"][\"files\"][0][\"size\"]\n",
    "path = '/vol_c/srer/reflectance/' + data_name"
   ]
  },
  {
   "cell_type": "code",
   "execution_count": null,
   "metadata": {},
   "outputs": [],
   "source": [
    "print(\"Downloading file size \" + data_size + \" bytes to \" + path)\n",
    "response = requests.get(data_url, stream=True)  \n",
    "handle = open(path, \"wb\")\n",
    "start_time = time.time()\n",
    "for chunk in response.iter_content(chunk_size=67108864):\n",
    "    if chunk: # filter out to keep alive new chunks\n",
    "        handle.write(chunk)\n",
    "        print(\"Downloaded size: \" + file_size(path))\n",
    "        print(\"--- %s seconds ---\" % (time.time() - start_time))\n",
    "    print(\"Expected file size: \" + data_size)\n",
    "    print(\"Downloaded file size: \" + file_size(path))\n",
    "print(\"--- %s seconds ---\" % (time.time() - start_time))"
   ]
  },
  {
   "cell_type": "code",
   "execution_count": null,
   "metadata": {
    "collapsed": true
   },
   "outputs": [],
   "source": []
  },
  {
   "cell_type": "markdown",
   "metadata": {},
   "source": [
    "Danger Zone - you probably don't have enough disk space to download all of these"
   ]
  },
  {
   "cell_type": "code",
   "execution_count": null,
   "metadata": {},
   "outputs": [],
   "source": [
    "for x in range(1, 408):\n",
    "    data_response = requests.get(SERVER + 'data/' + PRODUCTCODE + '/' + SITECODE + '/' + '2017-08')\n",
    "    data_response_json = data_response.json()\n",
    "    data_url = data_response_json[\"data\"][\"files\"][x][\"url\"] \n",
    "    print(\"Data URL: \" + data_url)\n",
    "    data_name = data_response_json[\"data\"][\"files\"][x][\"name\"]\n",
    "    data_size = data_response_json[\"data\"][\"files\"][x][\"size\"]\n",
    "    path = '/vol_c/srer/' + data_name\n",
    "    print(\"Downloading file of size \" + data_size + \" to \" + path)\n",
    "    response = requests.get(data_url)  \n",
    "    handle = open(path, \"wb\")\n",
    "    for chunk in response.iter_content(chunk_size=8388608):\n",
    "        if chunk: # filter out to keep alive new chunks\n",
    "            handle.write(chunk)\n",
    "    print(data_name + \" downloaded!\")\n",
    "    print(\"Expected file size: \" + data_size)\n",
    "    print(\"Downloaded file size: \" + file_size(path))"
   ]
  },
  {
   "cell_type": "code",
   "execution_count": null,
   "metadata": {
    "collapsed": true
   },
   "outputs": [],
   "source": []
  }
 ],
 "metadata": {
  "kernelspec": {
   "display_name": "Python 3",
   "language": "python",
   "name": "python3"
  },
  "language_info": {
   "codemirror_mode": {
    "name": "ipython",
    "version": 3
   },
   "file_extension": ".py",
   "mimetype": "text/x-python",
   "name": "python",
   "nbconvert_exporter": "python",
   "pygments_lexer": "ipython3",
   "version": "3.6.4"
  }
 },
 "nbformat": 4,
 "nbformat_minor": 2
}
