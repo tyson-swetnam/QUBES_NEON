{
 "cells": [
  {
   "cell_type": "code",
   "execution_count": 1,
   "metadata": {},
   "outputs": [
    {
     "name": "stderr",
     "output_type": "stream",
     "text": [
      "Skipping install of 'neonDataStackR' from a github remote, the SHA1 (504f517d) has not changed since last install.\n",
      "  Use `force = TRUE` to force installation\n"
     ]
    }
   ],
   "source": [
    "library(devtools)\n",
    "install_github(\"NEONScience/NEON-utilities/neonDataStackR\", dependencies=TRUE)\n",
    "library (neonDataStackR)"
   ]
  },
  {
   "cell_type": "code",
   "execution_count": 2,
   "metadata": {},
   "outputs": [
    {
     "ename": "ERROR",
     "evalue": "Error in zipsByProduct(dpID = \"DP1.30003.001\", site = \"SRER\", package = \"basic\", : DP1.30003.001 is a remote sensing product and is not stackable.\n",
     "execution_count": 2,
     "output_type": "error",
     "traceback": [
      "Error in zipsByProduct(dpID = \"DP1.30003.001\", site = \"SRER\", package = \"basic\", : DP1.30003.001 is a remote sensing product and is not stackable.\nTraceback:\n",
      "1. zipsByProduct(dpID = \"DP1.30003.001\", site = \"SRER\", package = \"basic\", \n .     check.size = T)   # at line 2 of file <text>",
      "2. stop(paste(dpID, \"is a remote sensing product and is not stackable.\"))"
     ]
    }
   ],
   "source": [
    "{\n",
    "zipsByProduct(dpID=\"DP1.30003.001\", site=\"SRER\", package=\"basic\", check.size=T)\n",
    "stackByTable(paste0(getwd(), \"/srer_lidar\"), folder=T)\n",
    "}"
   ]
  },
  {
   "cell_type": "code",
   "execution_count": null,
   "metadata": {},
   "outputs": [],
   "source": []
  }
 ],
 "metadata": {
  "kernelspec": {
   "display_name": "R",
   "language": "R",
   "name": "ir"
  },
  "language_info": {
   "codemirror_mode": "r",
   "file_extension": ".r",
   "mimetype": "text/x-r-source",
   "name": "R",
   "pygments_lexer": "r",
   "version": "3.4.2"
  }
 },
 "nbformat": 4,
 "nbformat_minor": 2
}
