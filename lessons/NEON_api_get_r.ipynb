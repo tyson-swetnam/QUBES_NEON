{
 "cells": [
  {
   "cell_type": "code",
   "execution_count": 6,
   "metadata": {},
   "outputs": [
    {
     "name": "stderr",
     "output_type": "stream",
     "text": [
      "Installing package into ‘/usr/local/lib/R/site-library’\n",
      "(as ‘lib’ is unspecified)\n",
      "also installing the dependency ‘curl’\n",
      "\n",
      "Warning message in install.packages(\"httr\"):\n",
      "“installation of package ‘curl’ had non-zero exit status”Warning message in install.packages(\"httr\"):\n",
      "“installation of package ‘httr’ had non-zero exit status”"
     ]
    },
    {
     "name": "stdout",
     "output_type": "stream",
     "text": [
      "\n",
      "The downloaded source packages are in\n",
      "\t‘/tmp/RtmpweYQSC/downloaded_packages’\n"
     ]
    },
    {
     "name": "stderr",
     "output_type": "stream",
     "text": [
      "Installing package into ‘/usr/local/lib/R/site-library’\n",
      "(as ‘lib’ is unspecified)\n"
     ]
    },
    {
     "name": "stdout",
     "output_type": "stream",
     "text": [
      "\n",
      "The downloaded source packages are in\n",
      "\t‘/tmp/RtmpweYQSC/downloaded_packages’\n"
     ]
    },
    {
     "name": "stderr",
     "output_type": "stream",
     "text": [
      "Installing package into ‘/usr/local/lib/R/site-library’\n",
      "(as ‘lib’ is unspecified)\n",
      "also installing the dependencies ‘curl’, ‘httr’\n",
      "\n",
      "Warning message in install.packages(\"devtools\"):\n",
      "“installation of package ‘curl’ had non-zero exit status”Warning message in install.packages(\"devtools\"):\n",
      "“installation of package ‘httr’ had non-zero exit status”Warning message in install.packages(\"devtools\"):\n",
      "“installation of package ‘devtools’ had non-zero exit status”"
     ]
    },
    {
     "name": "stdout",
     "output_type": "stream",
     "text": [
      "\n",
      "The downloaded source packages are in\n",
      "\t‘/tmp/RtmpweYQSC/downloaded_packages’\n"
     ]
    },
    {
     "name": "stderr",
     "output_type": "stream",
     "text": [
      "Installing package into ‘/usr/local/lib/R/site-library’\n",
      "(as ‘lib’ is unspecified)\n",
      "also installing the dependencies ‘cli’, ‘crayon’, ‘utf8’, ‘bindr’, ‘pillar’, ‘assertthat’, ‘bindrcpp’, ‘glue’, ‘pkgconfig’, ‘rlang’, ‘Rcpp’, ‘tibble’, ‘BH’, ‘plogr’\n",
      "\n"
     ]
    },
    {
     "name": "stdout",
     "output_type": "stream",
     "text": [
      "\n",
      "The downloaded source packages are in\n",
      "\t‘/tmp/RtmpweYQSC/downloaded_packages’\n"
     ]
    },
    {
     "name": "stderr",
     "output_type": "stream",
     "text": [
      "Installing package into ‘/usr/local/lib/R/site-library’\n",
      "(as ‘lib’ is unspecified)\n"
     ]
    },
    {
     "name": "stdout",
     "output_type": "stream",
     "text": [
      "\n",
      "The downloaded source packages are in\n",
      "\t‘/tmp/RtmpweYQSC/downloaded_packages’\n"
     ]
    },
    {
     "ename": "ERROR",
     "evalue": "Error in loadNamespace(name): there is no package called ‘devtools’\n",
     "execution_count": 6,
     "output_type": "error",
     "traceback": [
      "Error in loadNamespace(name): there is no package called ‘devtools’\nTraceback:\n",
      "1. devtools::install_github",
      "2. getExportedValue(pkg, name)",
      "3. asNamespace(ns)",
      "4. getNamespace(ns)",
      "5. tryCatch(loadNamespace(name), error = function(e) stop(e))",
      "6. tryCatchList(expr, classes, parentenv, handlers)",
      "7. tryCatchOne(expr, names, parentenv, handlers[[1L]])",
      "8. value[[3L]](cond)"
     ]
    }
   ],
   "source": [
    "## install packages\n",
    "install.packages(\"httr\")\n",
    "install.packages(\"jsonlite\")\n",
    "install.packages(\"devtools\")\n",
    "install.packages(\"dplyr\")\n",
    "install.packages(\"downloader\")\n",
    "devtools::install_github(\"NEONScience/NEON-geolocation/geoNEON\")\n",
    "devtools::install_github(\"NEONScience/NEON-utilities/neonDataStackR\")"
   ]
  },
  {
   "cell_type": "code",
   "execution_count": 18,
   "metadata": {},
   "outputs": [
    {
     "ename": "ERROR",
     "evalue": "Error in library(httr): there is no package called ‘httr’\n",
     "execution_count": 18,
     "output_type": "error",
     "traceback": [
      "Error in library(httr): there is no package called ‘httr’\nTraceback:\n",
      "1. library(httr)",
      "2. stop(txt, domain = NA)"
     ]
    }
   ],
   "source": [
    "# Load the necessary libaries\n",
    "library(httr)\n",
    "library(jsonlite)\n",
    "library(dplyr, quietly=T)\n",
    "library(downloader)"
   ]
  },
  {
   "cell_type": "code",
   "execution_count": 19,
   "metadata": {},
   "outputs": [
    {
     "ename": "ERROR",
     "evalue": "Error in eval(expr, envir, enclos): could not find function \"GET\"\n",
     "execution_count": 19,
     "output_type": "error",
     "traceback": [
      "Error in eval(expr, envir, enclos): could not find function \"GET\"\nTraceback:\n"
     ]
    }
   ],
   "source": [
    "## get metadata information about discrete return lidar\n",
    "req <- GET(\"http://data.neonscience.org/api/v0/products/DP1.30003.001\")\n",
    "req"
   ]
  },
  {
   "cell_type": "code",
   "execution_count": 20,
   "metadata": {},
   "outputs": [
    {
     "ename": "ERROR",
     "evalue": "Error in unlist(avail$data$siteCodes$availableDataUrls): object 'avail' not found\n",
     "execution_count": 20,
     "output_type": "error",
     "traceback": [
      "Error in unlist(avail$data$siteCodes$availableDataUrls): object 'avail' not found\nTraceback:\n",
      "1. unlist(avail$data$siteCodes$availableDataUrls)"
     ]
    }
   ],
   "source": [
    "lidar.urls <- unlist(avail$data$siteCodes$availableDataUrls)\n",
    "lidar.urls"
   ]
  },
  {
   "cell_type": "code",
   "execution_count": null,
   "metadata": {},
   "outputs": [],
   "source": [
    "srer <- GET(lidar.urls[grep(\"SRER/2017-08\", lidar.urls)])\n",
    "srer.files <- fromJSON(content(srer, as=\"text\"))"
   ]
  },
  {
   "cell_type": "code",
   "execution_count": null,
   "metadata": {},
   "outputs": [],
   "source": [
    "srer.files$data$files"
   ]
  }
 ],
 "metadata": {
  "kernelspec": {
   "display_name": "R",
   "language": "R",
   "name": "ir"
  },
  "language_info": {
   "codemirror_mode": "r",
   "file_extension": ".r",
   "mimetype": "text/x-r-source",
   "name": "R",
   "pygments_lexer": "r",
   "version": "3.4.2"
  }
 },
 "nbformat": 4,
 "nbformat_minor": 2
}
