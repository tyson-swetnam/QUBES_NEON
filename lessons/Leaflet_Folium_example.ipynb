{
 "cells": [
  {
   "cell_type": "markdown",
   "metadata": {},
   "source": [
    "# Creating interactive maps with Leaflet and Folium \n",
    "\n",
    "## Setup\n",
    "Install dependencies\n",
    "\n",
    "```\n",
    "conda install -c conda-forge folium \n",
    "pip install google-api-python-client\n",
    "pip install pyCrypto\n",
    "pip install earthengine-api\n",
    "jupyter labextension install @jupyterlab/geojson-extension\n",
    "```\n",
    "### Authenticate to Google Earth Engine\n",
    "\n",
    "Verify your Google Earth Engine Account\n",
    "\n",
    "```\n",
    "python -c \"import ee; ee.Initialize()\"\n",
    "```\n",
    "\n",
    "```\n",
    "earthengine authenticate\n",
    "```"
   ]
  },
  {
   "cell_type": "code",
   "execution_count": null,
   "metadata": {},
   "outputs": [],
   "source": [
    "# import packages\n",
    "import pandas as pd\n",
    "import json\n",
    "import sys\n",
    "import ee\n",
    "ee.Initialize()\n",
    "print(folium.__version__)\n",
    "sys.path.append('..')\n",
    "import folium\n",
    "print (folium.__file__)\n",
    "print (folium.__version__)"
   ]
  },
  {
   "cell_type": "markdown",
   "metadata": {},
   "source": [
    "### Create definition files for working with Google Earth Engine"
   ]
  },
  {
   "cell_type": "code",
   "execution_count": null,
   "metadata": {},
   "outputs": [],
   "source": [
    "def folium_gee_map(image,vis_params=None,folium_kwargs={}):\n",
    "    \"\"\"\n",
    "    Function to view Google Earth Engine tile layer as a Folium map.\n",
    "    \n",
    "    Parameters\n",
    "    ----------\n",
    "    image : Google Earth Engine Image.\n",
    "    vis_params : Dict with visualization parameters.\n",
    "    folium_kwargs : Keyword args for Folium Map.\n",
    "    \"\"\"\n",
    "    \n",
    "    # Get the MapID and Token after applying parameters\n",
    "    image_info = image.getMapId(vis_params)\n",
    "    mapid = image_info['mapid']\n",
    "    token = image_info['token']\n",
    "    folium_kwargs['attr'] = ('Map Data &copy; <a href=\"https://earthengine.google.com/\">Google Earth Engine</a> ')\n",
    "    folium_kwargs['tiles'] = \"https://earthengine.googleapis.com/map/%s/{z}/{x}/{y}?token=%s\"%(mapid,token)\n",
    "    \n",
    "    return folium.Map(**folium_kwargs)\n",
    "\n",
    "def folium_gee_layer(folium_map,image,vis_params=None,folium_kwargs={}):\n",
    "    \"\"\"\n",
    "    Function to add Google Earch Engine tile layer as a Folium layer.\n",
    "    \n",
    "    Parameters\n",
    "    ----------\n",
    "    folium_map : Folium map to add tile to.\n",
    "    image : Google Earth Engine Image.\n",
    "    vis_params : Dict with visualization parameters.\n",
    "    folium_kwargs : Keyword args for Folium Map.\n",
    "    \"\"\"\n",
    "    \n",
    "    # Get the MapID and Token after applying parameters\n",
    "    image_info = image.getMapId(vis_params)\n",
    "    mapid = image_info['mapid']\n",
    "    token = image_info['token']\n",
    "    folium_kwargs['attr'] = ('Map Data &copy; <a href=\"https://earthengine.google.com/\">Google Earth Engine</a> ')\n",
    "    folium_kwargs['tiles'] = \"https://earthengine.googleapis.com/map/%s/{z}/{x}/{y}?token=%s\"%(mapid,token)\n",
    "    \n",
    "    layer = folium.TileLayer(**folium_kwargs)\n",
    "    layer.add_to(folium_map)\n"
   ]
  },
  {
   "cell_type": "markdown",
   "metadata": {},
   "source": [
    "\n",
    "To convert kml files to geojson, install this dependency:\n",
    "```\n",
    "pip install kml2geojson\n",
    "```"
   ]
  },
  {
   "cell_type": "code",
   "execution_count": null,
   "metadata": {},
   "outputs": [],
   "source": [
    "system(k2g /home/tswetnam/DiscreteLidar/LasBoundary/full_boundary_all_files.kml /home/tswetnam/DiscreteLidar/LasBoundary)"
   ]
  },
  {
   "cell_type": "code",
   "execution_count": null,
   "metadata": {},
   "outputs": [],
   "source": [
    "system(k2g /home/tswetnam/DiscreteLidar/LasBoundary/full_boundary.kml /home/tswetnam/DiscreteLidar/LasBoundary)"
   ]
  },
  {
   "cell_type": "code",
   "execution_count": null,
   "metadata": {},
   "outputs": [],
   "source": [
    "# import geo json data\n",
    "full_boundary_all = json.load(open('/home/tswetnam/DiscreteLidar/LasBoundary/full_boundary_all_files.geojson'))\n",
    "full_boundary = json.load(open('/home/tswetnam/DiscreteLidar/LasBoundary/full_boundary.geojson'))"
   ]
  },
  {
   "cell_type": "code",
   "execution_count": 7,
   "metadata": {},
   "outputs": [
    {
     "ename": "NameError",
     "evalue": "name 'folium' is not defined",
     "output_type": "error",
     "traceback": [
      "\u001b[0;31m---------------------------------------------------------------------------\u001b[0m",
      "\u001b[0;31mNameError\u001b[0m                                 Traceback (most recent call last)",
      "\u001b[0;32m<ipython-input-7-003f989e270a>\u001b[0m in \u001b[0;36m<module>\u001b[0;34m()\u001b[0m\n\u001b[1;32m      5\u001b[0m \u001b[0;34m\u001b[0m\u001b[0m\n\u001b[1;32m      6\u001b[0m \u001b[0;31m# Open Street Map Base\u001b[0m\u001b[0;34m\u001b[0m\u001b[0;34m\u001b[0m\u001b[0m\n\u001b[0;32m----> 7\u001b[0;31m \u001b[0mm\u001b[0m \u001b[0;34m=\u001b[0m \u001b[0mfolium\u001b[0m\u001b[0;34m.\u001b[0m\u001b[0mMap\u001b[0m\u001b[0;34m(\u001b[0m\u001b[0mlocation\u001b[0m\u001b[0;34m=\u001b[0m\u001b[0;34m[\u001b[0m\u001b[0mlat\u001b[0m\u001b[0;34m,\u001b[0m \u001b[0mlon\u001b[0m\u001b[0;34m]\u001b[0m\u001b[0;34m,\u001b[0m \u001b[0mtiles\u001b[0m\u001b[0;34m=\u001b[0m\u001b[0;34m\"OpenStreetMap\"\u001b[0m\u001b[0;34m,\u001b[0m \u001b[0mzoom_start\u001b[0m\u001b[0;34m=\u001b[0m\u001b[0mzoom_start\u001b[0m\u001b[0;34m)\u001b[0m\u001b[0;34m\u001b[0m\u001b[0m\n\u001b[0m\u001b[1;32m      8\u001b[0m \u001b[0;34m\u001b[0m\u001b[0m\n\u001b[1;32m      9\u001b[0m \u001b[0;31m# Add polygon outline of SRER\u001b[0m\u001b[0;34m\u001b[0m\u001b[0;34m\u001b[0m\u001b[0m\n",
      "\u001b[0;31mNameError\u001b[0m: name 'folium' is not defined"
     ]
    }
   ],
   "source": [
    "# Get an area to look at\n",
    "lat = 31.8260\n",
    "lon = -110.865\n",
    "zoom_start=12\n",
    "\n",
    "# Open Street Map Base\n",
    "m = folium.Map(location=[lat, lon], tiles=\"OpenStreetMap\", zoom_start=zoom_start)\n",
    "\n",
    "# Add polygon outline of SRER\n",
    "full_boundary = json.load(open('/home/tswetnam/DiscreteLidar/LasBoundary/full_boundary.geojson'))\n",
    "folium.GeoJson(full_boundary).add_to(m)\n",
    "\n",
    "# Add GEE Terrain Layer\n",
    "image = ee.Image('srtm90_v4')\n",
    "vis_params = {'min':0.0, 'max':3000, 'palette':'00FFFF,0000FF'}\n",
    "folium_gee_layer(m,image,vis_params=vis_params,folium_kwargs={'overlay':True,'name':'SRTM'})\n",
    "\n",
    "# Create a reference to the LANDSAT 8 image collection\n",
    "l8 = ee.ImageCollection('LANDSAT/LC8_L1T_TOA')\n",
    "# Filter the LANDSAT collection down to a eight month period\n",
    "filtered = l8.filterDate('2017-01-01', '2017-08-31');\n",
    "# Use the mosaic reducer, to select the most recent pixel in areas of overlap\n",
    "l8_image = filtered.median()\n",
    "l8_vis_params = {'min': 0, 'max':0.3, 'bands':'B4,B3,B2'}\n",
    "folium_gee_layer(m,l8_image,l8_vis_params,folium_kwargs={'overlay':True,'name':'LANDSAT'})\n",
    "\n",
    "# Create a reference to the 2017 NEON orthophotography image collection\n",
    "#neon = ee.ImageCollection('users/gponce/usda_ars/image_collections/neon_srer_2017_rgb')\n",
    "#neon_image = neon.median()\n",
    "#n eon_vis_params = {'min':0, 'max':255, 'bands':'b1,b2,b3'}\n",
    "#folium_gee_layer(m,neon_image,neon_vis_params,folium_kwargs={'overlay':True,'name':'NEON'})\n",
    "\n",
    "# Create a reference to the 2016 sUAS orthophotography imager collection\n",
    "\n",
    "m.add_child(folium.LayerControl())\n",
    "m"
   ]
  },
  {
   "cell_type": "code",
   "execution_count": 5,
   "metadata": {},
   "outputs": [
    {
     "name": "stdout",
     "output_type": "stream",
     "text": [
      "PROJCS[\"NAD_1983_UTM_Zone_12N\",\n",
      "    GEOGCS[\"NAD83\",\n",
      "        DATUM[\"North_American_Datum_1983\",\n",
      "            SPHEROID[\"GRS 1980\",6378137,298.2572221010042,\n",
      "                AUTHORITY[\"EPSG\",\"7019\"]],\n",
      "            AUTHORITY[\"EPSG\",\"6269\"]],\n",
      "        PRIMEM[\"Greenwich\",0],\n",
      "        UNIT[\"degree\",0.0174532925199433],\n",
      "        AUTHORITY[\"EPSG\",\"4269\"]],\n",
      "    PROJECTION[\"Transverse_Mercator\"],\n",
      "    PARAMETER[\"latitude_of_origin\",0],\n",
      "    PARAMETER[\"central_meridian\",-111],\n",
      "    PARAMETER[\"scale_factor\",0.9996],\n",
      "    PARAMETER[\"false_easting\",500000],\n",
      "    PARAMETER[\"false_northing\",0],\n",
      "    UNIT[\"metre\",1,\n",
      "        AUTHORITY[\"EPSG\",\"9001\"]],\n",
      "    AUTHORITY[\"EPSG\",\"26912\"]]\n"
     ]
    }
   ],
   "source": [
    "import gdal as gdal\n",
    "import osr as osr\n",
    "\n",
    "gdal.UseExceptions()\n",
    "\n",
    "fname = '/home/tswetnam/wgew/LH_20agl_9Oct2017_georef.tif'\n",
    "\n",
    "ds = gdal.Open(fname)\n",
    "data = ds.ReadAsArray()\n",
    "gt = ds.GetGeoTransform()\n",
    "proj = ds.GetProjection()\n",
    "\n",
    "inproj = osr.SpatialReference()\n",
    "inproj.ImportFromWkt(proj)\n",
    "\n",
    "print(inproj)"
   ]
  },
  {
   "cell_type": "code",
   "execution_count": 6,
   "metadata": {},
   "outputs": [
    {
     "name": "stdout",
     "output_type": "stream",
     "text": [
      "0/1 -  0.00% of files done   0.000/6512.374 MB -  0.00% of file sizes done\n",
      "Processing LH_20agl_9Oct2017_georef.tif - 6512.374 MB   2018-04-19.13:22:11\n",
      "LH_20agl_9Oct2017_georef.tif - 840.000/6512.374 MB - 12.90% done   2018-04-19.13:22:23\n",
      "LH_20agl_9Oct2017_georef.tif - 1880.000/6512.374 MB - 28.87% done   2018-04-19.13:22:32\n",
      "LH_20agl_9Oct2017_georef.tif - 2680.000/6512.374 MB - 41.15% done   2018-04-19.13:22:39\n",
      "LH_20agl_9Oct2017_georef.tif - 3520.000/6512.374 MB - 54.05% done   2018-04-19.13:22:46\n",
      "LH_20agl_9Oct2017_georef.tif - 4080.000/6512.374 MB - 62.65% done   2018-04-19.13:22:53\n",
      "LH_20agl_9Oct2017_georef.tif - 4927.023/6512.374 MB - 75.66% done   2018-04-19.13:22:59\n",
      "LH_20agl_9Oct2017_georef.tif - 5595.117/6512.374 MB - 85.92% done   2018-04-19.13:23:05\n",
      "LH_20agl_9Oct2017_georef.tif - 6230.234/6512.374 MB - 95.67% done   2018-04-19.13:23:10\n",
      "LH_20agl_9Oct2017_georef.tif - 6465.351/6512.374 MB - 99.28% done   2018-04-19.13:23:11\n",
      "LH_20agl_9Oct2017_georef.tif - 6505.351/6512.374 MB - 99.89% done   2018-04-19.13:23:11\n",
      "LH_20agl_9Oct2017_georef.tif - 6512.374/6512.374 MB - 100.00% done   2018-04-19.13:23:11\n",
      "   LH_20agl_9Oct2017_georef.    6512.374 MB | 80.415 sec | 16 thr | 80.985 MB/s\n"
     ]
    }
   ],
   "source": [
    "!iget -KPQvrf /iplant/home/shared/srer-wgew/data/wgew/sfm_2017/LH_20agl_9Oct2017_georef.tif"
   ]
  },
  {
   "cell_type": "code",
   "execution_count": 43,
   "metadata": {},
   "outputs": [
    {
     "name": "stdout",
     "output_type": "stream",
     "text": [
      "Processing input file /home/tswetnam/wgew/LH_20agl_9Oct2017_georef.tif.\n",
      "Using internal nodata values (e.g. 256) for image /home/tswetnam/wgew/LH_20agl_9Oct2017_georef.tif.\n",
      "ERROR 1: Too many points (441 out of 441) failed to transform, unable to compute output bounds.\n",
      "Warning 1: Unable to compute source region for output window 0,0,36805,31362, skipping.\n",
      "0...10...20...30...40...50...60...70...80...90...100 - done.\n"
     ]
    }
   ],
   "source": [
    "!gdalwarp -t_srs EPSG:4326 -r near /home/tswetnam/wgew/LH_20agl_9Oct2017_georef.tif /home/tswetnam/wgew/LH_20agl_9Oct2017_georef2.tif"
   ]
  },
  {
   "cell_type": "code",
   "execution_count": 44,
   "metadata": {},
   "outputs": [
    {
     "name": "stdout",
     "output_type": "stream",
     "text": [
      "Input file size is 36805, 31362\n",
      "ERROR 6: zoom_level > 22 not supported\n",
      "0...10...20...30...40...50...60...70...80...90...100 - done.\n",
      "ERROR 6: zoom_level > 22 not supported\n"
     ]
    }
   ],
   "source": [
    "!gdal_translate -of mbtiles  /home/tswetnam/wgew/LH_20agl_9Oct2017_georef2.tif  /home/tswetnam/wgew/LH_20agl_9Oct2017_georef.mbtiles\n",
    "!gdaladdo -r nearest /home/tswetnam/wgew/LH_20agl_9Oct2017_georef.mbtiles 2 4 8 16"
   ]
  },
  {
   "cell_type": "code",
   "execution_count": null,
   "metadata": {},
   "outputs": [],
   "source": []
  },
  {
   "cell_type": "code",
   "execution_count": null,
   "metadata": {},
   "outputs": [],
   "source": []
  }
 ],
 "metadata": {
  "kernelspec": {
   "display_name": "Python 3",
   "language": "python",
   "name": "python3"
  },
  "language_info": {
   "codemirror_mode": {
    "name": "ipython",
    "version": 3
   },
   "file_extension": ".py",
   "mimetype": "text/x-python",
   "name": "python",
   "nbconvert_exporter": "python",
   "pygments_lexer": "ipython3",
   "version": "3.6.4"
  }
 },
 "nbformat": 4,
 "nbformat_minor": 2
}
