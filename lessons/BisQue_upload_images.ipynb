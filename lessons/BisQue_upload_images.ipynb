{
 "cells": [
  {
   "cell_type": "markdown",
   "metadata": {},
   "source": [
    "Uploading a group of files with metdata stored in a CSV file\n",
    "======================\n",
    "\n",
    "We'll be using standard python tools to parse CSV and create XML documents describing files for BisQue\n",
    "\n",
    "Make sure you have bisque api installed:\n",
    "> pip install bisque-api"
   ]
  },
  {
   "cell_type": "code",
   "execution_count": null,
   "metadata": {
    "collapsed": true
   },
   "outputs": [],
   "source": [
    "import os\n",
    "import csv\n",
    "try:\n",
    "    from lxml import etree\n",
    "except ImportError:\n",
    "    import xml.etree.ElementTree as etree"
   ]
  },
  {
   "cell_type": "markdown",
   "metadata": {},
   "source": [
    "Include BisQue API"
   ]
  },
  {
   "cell_type": "code",
   "execution_count": null,
   "metadata": {
    "collapsed": false
   },
   "outputs": [],
   "source": [
    "from bqapi import BQSession, BQCommError\n",
    "from bqapi.util import save_blob, localpath2url"
   ]
  },
  {
   "cell_type": "markdown",
   "metadata": {},
   "source": [
    "define some paths"
   ]
  },
  {
   "cell_type": "code",
   "execution_count": null,
   "metadata": {
    "collapsed": true
   },
   "outputs": [],
   "source": [
    "path = './files_group'\n",
    "path_csv = os.path.join(path, 'seeds.csv')"
   ]
  },
  {
   "cell_type": "markdown",
   "metadata": {},
   "source": [
    "Parse CSV file and define metadata fields\n",
    "------------------------------------------\n",
    "\n",
    "We'll create a list of dictionaries with file names and their metadata, this way each file could have its own metadata fields"
   ]
  },
  {
   "cell_type": "code",
   "execution_count": null,
   "metadata": {
    "collapsed": false
   },
   "outputs": [],
   "source": [
    "files = []\n",
    "with open(path_csv, 'rb') as csvfile:\n",
    "    reader = csv.DictReader(csvfile)\n",
    "    for row in reader:\n",
    "        f = {}\n",
    "        for k,v in row.iteritems():\n",
    "            f[k] = v\n",
    "        print f\n",
    "        files.append(f)"
   ]
  },
  {
   "cell_type": "markdown",
   "metadata": {},
   "source": [
    "Create XML resources per image\n",
    "------------------------------\n",
    "\n",
    "Each file/image in the BisQue system is described with an XML document containing metadata, we'll create this document and post it to the system"
   ]
  },
  {
   "cell_type": "code",
   "execution_count": null,
   "metadata": {
    "collapsed": false
   },
   "outputs": [],
   "source": [
    "ignore = ['url', 'filename', 'resource']\n",
    "for f in files:\n",
    "    resource = etree.Element ('image', name=f['filename'])\n",
    "    for k,v in f.iteritems():\n",
    "        if k not in ignore:\n",
    "            t = etree.SubElement (resource, 'tag', name=k, value=v)\n",
    "            if 'url' in k:\n",
    "                t.set('type', 'link')\n",
    "    print etree.tostring(resource, pretty_print=True)\n",
    "    f['resource'] = resource"
   ]
  },
  {
   "cell_type": "markdown",
   "metadata": {},
   "source": [
    "Upload images\n",
    "--------------\n",
    "\n",
    "Initialize a BisQue session using simple user credentials"
   ]
  },
  {
   "cell_type": "code",
   "execution_count": null,
   "metadata": {
    "collapsed": false
   },
   "outputs": [],
   "source": [
    "root = 'http://bisque.ece.ucsb.edu'\n",
    "user = 'my_user'\n",
    "pswd = 'my_pass'\n",
    "\n",
    "session = BQSession().init_local(user, pswd,  bisque_root=root, create_mex=False)"
   ]
  },
  {
   "cell_type": "markdown",
   "metadata": {},
   "source": [
    "upload each file\n",
    "-----------------"
   ]
  },
  {
   "cell_type": "code",
   "execution_count": null,
   "metadata": {
    "collapsed": false
   },
   "outputs": [],
   "source": [
    "for f in files:\n",
    "    print '\\nuploading %s'%f['filename']\n",
    "    filepath = os.path.join(path, f['filename'])\n",
    "    resource = f['resource']\n",
    "\n",
    "    # use import service to /import/transfer activating import service\n",
    "    r = etree.XML(session.postblob(filepath, xml=resource)).find('./') \n",
    "\n",
    "    if r is None or r.get('uri') is None:\n",
    "        print 'Upload failed'\n",
    "    else:\n",
    "        print 'Uploaded ID: %s, URL: %s'%(r.get('resource_uniq'), r.get('uri'))\n",
    "        f['url'] = r.get('uri')"
   ]
  },
  {
   "cell_type": "markdown",
   "metadata": {},
   "source": [
    "Create a dataset with all successfully uploaded files\n",
    "-------------------------"
   ]
  },
  {
   "cell_type": "code",
   "execution_count": null,
   "metadata": {
    "collapsed": false
   },
   "outputs": [],
   "source": [
    "dataset = etree.Element ('dataset', name='demo seeds')\n",
    "for f in files:\n",
    "    if 'url' not in f:\n",
    "        continue\n",
    "    v = etree.SubElement (dataset, 'value', type=\"object\")\n",
    "    v.text = f['url']\n",
    "print etree.tostring(dataset, pretty_print=True)"
   ]
  },
  {
   "cell_type": "markdown",
   "metadata": {},
   "source": [
    "Upload dataset\n",
    "---------------"
   ]
  },
  {
   "cell_type": "code",
   "execution_count": null,
   "metadata": {
    "collapsed": false
   },
   "outputs": [],
   "source": [
    "url = session.service_url('data_service')\n",
    "r = session.postxml(url, dataset)\n",
    "\n",
    "if r is None or r.get('uri') is None:\n",
    "    print 'Dataset failed'\n",
    "else:\n",
    "    print 'Dataset ID: %s, URL: %s'%(r.get('resource_uniq'), r.get('uri'))\n",
    "    f['url'] = r.get('uri')"
   ]
  }
 ],
 "metadata": {
  "kernelspec": {
   "display_name": "Python 3",
   "language": "python",
   "name": "python3"
  },
  "language_info": {
   "codemirror_mode": {
    "name": "ipython",
    "version": 3
   },
   "file_extension": ".py",
   "mimetype": "text/x-python",
   "name": "python",
   "nbconvert_exporter": "python",
   "pygments_lexer": "ipython3",
   "version": "3.6.4"
  }
 },
 "nbformat": 4,
 "nbformat_minor": 2
}
