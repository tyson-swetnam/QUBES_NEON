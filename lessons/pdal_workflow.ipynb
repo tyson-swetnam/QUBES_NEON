{
 "cells": [
  {
   "cell_type": "markdown",
   "metadata": {},
   "source": [
    "First, we pull the [PDAL Docker](https://hub.docker.com/r/pdal/pdal/) container from [DockerHub](https://hub.docker.com/)"
   ]
  },
  {
   "cell_type": "code",
   "execution_count": 1,
   "metadata": {},
   "outputs": [
    {
     "data": {
      "text/plain": [
       "['latest: Pulling from pdal/pdal',\n",
       " '1160f4abea84: Pulling fs layer',\n",
       " '78130d9cc1c5: Pulling fs layer',\n",
       " '1160f4abea84: Download complete',\n",
       " '1160f4abea84: Pull complete',\n",
       " '78130d9cc1c5: Verifying Checksum',\n",
       " '78130d9cc1c5: Download complete',\n",
       " '78130d9cc1c5: Pull complete',\n",
       " 'Digest: sha256:15e4346b7af746a4e595ef6993677f02ca198961815800ca203cf74cf6b27616',\n",
       " 'Status: Downloaded newer image for pdal/pdal:latest']"
      ]
     },
     "execution_count": 1,
     "metadata": {},
     "output_type": "execute_result"
    }
   ],
   "source": [
    "system(docker pull pdal/pdal:latest)"
   ]
  },
  {
   "cell_type": "markdown",
   "metadata": {},
   "source": [
    "At this point you're ready to do some analyses with PDAL"
   ]
  },
  {
   "cell_type": "markdown",
   "metadata": {},
   "source": [
    "Next, we need to pull some data onto this virtual instance."
   ]
  },
  {
   "cell_type": "markdown",
   "metadata": {},
   "source": [
    "From a console, initiate the iRODS connection using the `iinit` command."
   ]
  },
  {
   "cell_type": "markdown",
   "metadata": {},
   "source": [
    "|field|response|\n",
    "|-----|--------|\n",
    "|host name (DNS)|data.cyverse.org|\n",
    "|port number|1247|\n",
    "|user name|$USER|\n",
    "|irods zone|iplant|\n",
    "|irods password|type password|"
   ]
  },
  {
   "cell_type": "markdown",
   "metadata": {},
   "source": [
    "Now you're ready to pull data from the CyVerse data store onto the virtual instance."
   ]
  },
  {
   "cell_type": "code",
   "execution_count": null,
   "metadata": {},
   "outputs": [],
   "source": []
  }
 ],
 "metadata": {
  "kernelspec": {
   "display_name": "Python 3",
   "language": "python",
   "name": "python3"
  },
  "language_info": {
   "codemirror_mode": {
    "name": "ipython",
    "version": 3
   },
   "file_extension": ".py",
   "mimetype": "text/x-python",
   "name": "python",
   "nbconvert_exporter": "python",
   "pygments_lexer": "ipython3",
   "version": "3.6.3"
  }
 },
 "nbformat": 4,
 "nbformat_minor": 2
}
