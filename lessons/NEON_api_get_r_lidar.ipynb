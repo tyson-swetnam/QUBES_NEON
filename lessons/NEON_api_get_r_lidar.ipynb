{
 "cells": [
  {
   "cell_type": "code",
   "execution_count": 1,
   "metadata": {},
   "outputs": [
    {
     "data": {
      "text/plain": [
       "               _                           \n",
       "platform       x86_64-conda_cos6-linux-gnu \n",
       "arch           x86_64                      \n",
       "os             linux-gnu                   \n",
       "system         x86_64, linux-gnu           \n",
       "status                                     \n",
       "major          3                           \n",
       "minor          4.2                         \n",
       "year           2017                        \n",
       "month          09                          \n",
       "day            28                          \n",
       "svn rev        73368                       \n",
       "language       R                           \n",
       "version.string R version 3.4.2 (2017-09-28)\n",
       "nickname       Short Summer                "
      ]
     },
     "metadata": {},
     "output_type": "display_data"
    }
   ],
   "source": [
    "version"
   ]
  },
  {
   "cell_type": "markdown",
   "metadata": {},
   "source": [
    "Because the VM is running Conda for the Jupyter Lab, the R packages may not install properly. \n",
    "Instead you can use `conda` to install the packages"
   ]
  },
  {
   "cell_type": "code",
   "execution_count": 3,
   "metadata": {},
   "outputs": [],
   "source": [
    "system(\"conda install -c conda-forge r-essentials r-sp r-gtools r-rgdal r-httr r-jsonlite r-downloader r-dplyr r-devtools\") "
   ]
  },
  {
   "cell_type": "code",
   "execution_count": 10,
   "metadata": {},
   "outputs": [
    {
     "name": "stderr",
     "output_type": "stream",
     "text": [
      "Warning message in install.packages(\"jsonlite\"):\n",
      "“installation of package ‘jsonlite’ had non-zero exit status”Updating HTML index of packages in '.Library'\n",
      "Making 'packages.html' ... done\n",
      "Warning message in install.packages(\"dplyr\"):\n",
      "“installation of package ‘dplyr’ had non-zero exit status”Updating HTML index of packages in '.Library'\n",
      "Making 'packages.html' ... done\n",
      "Updating HTML index of packages in '.Library'\n",
      "Making 'packages.html' ... done\n",
      "Updating HTML index of packages in '.Library'\n",
      "Making 'packages.html' ... done\n"
     ]
    }
   ],
   "source": [
    "# install.packages(\"httr\")\n",
    "# install.packages(\"jsonlite\")\n",
    "# install.packages(\"dplyr\")\n",
    "# install.packages(\"devtools\")\n",
    "# install.packages(\"downloader\")"
   ]
  },
  {
   "cell_type": "code",
   "execution_count": 2,
   "metadata": {},
   "outputs": [
    {
     "name": "stderr",
     "output_type": "stream",
     "text": [
      "\n",
      "Attaching package: ‘dplyr’\n",
      "\n",
      "The following objects are masked from ‘package:stats’:\n",
      "\n",
      "    filter, lag\n",
      "\n",
      "The following objects are masked from ‘package:base’:\n",
      "\n",
      "    intersect, setdiff, setequal, union\n",
      "\n",
      "\n",
      "Attaching package: ‘downloader’\n",
      "\n",
      "The following object is masked from ‘package:devtools’:\n",
      "\n",
      "    source_url\n",
      "\n"
     ]
    }
   ],
   "source": [
    "# Load the necessary libaries\n",
    "library(httr)\n",
    "library(jsonlite)\n",
    "library(dplyr, quietly=T)\n",
    "library(devtools)\n",
    "library(downloader)"
   ]
  },
  {
   "cell_type": "code",
   "execution_count": 1,
   "metadata": {},
   "outputs": [
    {
     "name": "stderr",
     "output_type": "stream",
     "text": [
      "Downloading GitHub repo NEONScience/NEON-geolocation@master\n",
      "from URL https://api.github.com/repos/NEONScience/NEON-geolocation/zipball/master\n",
      "Installing geoNEON\n",
      "Warning message in utils::untar(src, exdir = target, compressed = \"gzip\"):\n",
      "“‘/bin/gtar -xf '/tmp/Rtmp7AP5FO/rgdal_1.2-16.tar.gz' -C '/tmp/Rtmp7AP5FO/devtools293476d73779'’ returned error code 127”Installation failed: error in running command\n",
      "Warning message in utils::untar(src, exdir = target, compressed = \"gzip\"):\n",
      "“‘/bin/gtar -xf '/tmp/Rtmp7AP5FO/sp_1.2-6.tar.gz' -C '/tmp/Rtmp7AP5FO/devtools293468474f9'’ returned error code 127”Installation failed: error in running command\n",
      "'/home/anaconda3/lib/R/bin/R' --no-site-file --no-environ --no-save  \\\n",
      "  --no-restore --quiet CMD INSTALL  \\\n",
      "  '/tmp/Rtmp7AP5FO/devtools2934608a91cf/NEONScience-NEON-geolocation-162a7c7/geoNEON'  \\\n",
      "  --library='/home/anaconda3/lib/R/library' --install-tests \n",
      "\n",
      "Installation failed: Command failed (1)\n",
      "Downloading GitHub repo NEONScience/NEON-utilities@master\n",
      "from URL https://api.github.com/repos/NEONScience/NEON-utilities/zipball/master\n",
      "Installing neonDataStackR\n",
      "Warning message in utils::untar(src, exdir = target, compressed = \"gzip\"):\n",
      "“‘/bin/gtar -xf '/tmp/Rtmp7AP5FO/gdata_2.18.0.tar.gz' -C '/tmp/Rtmp7AP5FO/devtools293415c7633d'’ returned error code 127”Installation failed: error in running command\n",
      "'/home/anaconda3/lib/R/bin/R' --no-site-file --no-environ --no-save  \\\n",
      "  --no-restore --quiet CMD INSTALL  \\\n",
      "  '/tmp/Rtmp7AP5FO/devtools293460877c9d/NEONScience-NEON-utilities-77ee7c9/neonDataStackR'  \\\n",
      "  --library='/home/anaconda3/lib/R/library' --install-tests \n",
      "\n",
      "Installation failed: Command failed (1)\n"
     ]
    }
   ],
   "source": [
    "devtools::install_github(\"NEONScience/NEON-geolocation/geoNEON\")\n",
    "devtools::install_github(\"NEONScience/NEON-utilities/neonDataStackR\")"
   ]
  },
  {
   "cell_type": "code",
   "execution_count": 2,
   "metadata": {},
   "outputs": [
    {
     "data": {
      "text/html": [
       "<ol class=list-inline>\n",
       "\t<li>'NEON_D14_SRER_DP1_L019-1_2017082413_unclassified_point_cloud.laz'</li>\n",
       "\t<li>'NEON_D14_SRER_DP1_516000_3522000_classified_point_cloud.laz'</li>\n",
       "\t<li>'NEON_D14_SRER_DP1_505000_3523000_classified_point_cloud.laz'</li>\n",
       "\t<li>'NEON_D14_SRER_DP1_503000_3521000_classified_point_cloud.laz'</li>\n",
       "\t<li>'NEON_D14_SRER_DP1_504000_3521000_classified_point_cloud.laz'</li>\n",
       "\t<li>'NEON_D14_SRER_DP1_L058-1_2017082515_unclassified_point_cloud.laz'</li>\n",
       "</ol>\n"
      ],
      "text/latex": [
       "\\begin{enumerate*}\n",
       "\\item 'NEON\\_D14\\_SRER\\_DP1\\_L019-1\\_2017082413\\_unclassified\\_point\\_cloud.laz'\n",
       "\\item 'NEON\\_D14\\_SRER\\_DP1\\_516000\\_3522000\\_classified\\_point\\_cloud.laz'\n",
       "\\item 'NEON\\_D14\\_SRER\\_DP1\\_505000\\_3523000\\_classified\\_point\\_cloud.laz'\n",
       "\\item 'NEON\\_D14\\_SRER\\_DP1\\_503000\\_3521000\\_classified\\_point\\_cloud.laz'\n",
       "\\item 'NEON\\_D14\\_SRER\\_DP1\\_504000\\_3521000\\_classified\\_point\\_cloud.laz'\n",
       "\\item 'NEON\\_D14\\_SRER\\_DP1\\_L058-1\\_2017082515\\_unclassified\\_point\\_cloud.laz'\n",
       "\\end{enumerate*}\n"
      ],
      "text/markdown": [
       "1. 'NEON_D14_SRER_DP1_L019-1_2017082413_unclassified_point_cloud.laz'\n",
       "2. 'NEON_D14_SRER_DP1_516000_3522000_classified_point_cloud.laz'\n",
       "3. 'NEON_D14_SRER_DP1_505000_3523000_classified_point_cloud.laz'\n",
       "4. 'NEON_D14_SRER_DP1_503000_3521000_classified_point_cloud.laz'\n",
       "5. 'NEON_D14_SRER_DP1_504000_3521000_classified_point_cloud.laz'\n",
       "6. 'NEON_D14_SRER_DP1_L058-1_2017082515_unclassified_point_cloud.laz'\n",
       "\n",
       "\n"
      ],
      "text/plain": [
       "[1] \"NEON_D14_SRER_DP1_L019-1_2017082413_unclassified_point_cloud.laz\"\n",
       "[2] \"NEON_D14_SRER_DP1_516000_3522000_classified_point_cloud.laz\"     \n",
       "[3] \"NEON_D14_SRER_DP1_505000_3523000_classified_point_cloud.laz\"     \n",
       "[4] \"NEON_D14_SRER_DP1_503000_3521000_classified_point_cloud.laz\"     \n",
       "[5] \"NEON_D14_SRER_DP1_504000_3521000_classified_point_cloud.laz\"     \n",
       "[6] \"NEON_D14_SRER_DP1_L058-1_2017082515_unclassified_point_cloud.laz\""
      ]
     },
     "metadata": {},
     "output_type": "display_data"
    }
   ],
   "source": [
    "# Request camera data availability info\n",
    "req.aop <- GET(\"http://data.neonscience.org/api/v0/products/DP1.30003.001\")\n",
    "\n",
    "# make this JSON readable\n",
    "# Note how we've change this from two commands into one here\n",
    "avail.aop <- fromJSON(content(req.aop, as=\"text\"), simplifyDataFrame=T, flatten=T)\n",
    "\n",
    "# get data availability list for the product\n",
    "cam.urls <- unlist(avail.aop$data$siteCodes$availableDataUrls)\n",
    "\n",
    "# get data availability from location/date of interest\n",
    "cam <- GET(cam.urls[grep(\"SRER\", cam.urls)])\n",
    "cam.files <- fromJSON(content(cam, as=\"text\"))\n",
    "\n",
    "# this list of files is very long, so we'll just look at the first few\n",
    "head(cam.files$data$files$name)\n"
   ]
  },
  {
   "cell_type": "code",
   "execution_count": 3,
   "metadata": {},
   "outputs": [
    {
     "ename": "ERROR",
     "evalue": "Error in parse(text = x, srcfile = src): <text>:1:60: unexpected ')'\n1: download(cam.files$data$files$url[cam.files$data$files$name)\n                                                               ^\n",
     "execution_count": 3,
     "output_type": "error",
     "traceback": [
      "Error in parse(text = x, srcfile = src): <text>:1:60: unexpected ')'\n1: download(cam.files$data$files$url[cam.files$data$files$name)\n                                                               ^\nTraceback:\n"
     ]
    }
   ],
   "source": [
    "download(cam.files$data$files$url[cam.files$data$files$name)],\n",
    "         paste(getwd(), \"/vol_c/srer/\", sep=\"\"))"
   ]
  },
  {
   "cell_type": "code",
   "execution_count": null,
   "metadata": {},
   "outputs": [],
   "source": []
  }
 ],
 "metadata": {
  "kernelspec": {
   "display_name": "R",
   "language": "R",
   "name": "ir"
  },
  "language_info": {
   "codemirror_mode": "r",
   "file_extension": ".r",
   "mimetype": "text/x-r-source",
   "name": "R",
   "pygments_lexer": "r",
   "version": "3.4.2"
  }
 },
 "nbformat": 4,
 "nbformat_minor": 2
}
