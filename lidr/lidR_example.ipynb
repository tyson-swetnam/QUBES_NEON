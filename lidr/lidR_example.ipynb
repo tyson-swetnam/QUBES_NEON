{
 "cells": [
  {
   "cell_type": "markdown",
   "metadata": {},
   "source": [
    "# Individual plant / tree segmentation with lidR\n",
    "\n",
    "[lidR](https://github.com/Jean-Romain/lidR/wiki) is a R package created by Jean-Romain. It is built natively in R, and allows users to select from multiple segmentation techniques (e.g. watershed, \n",
    "\n",
    "Example scripts provide below were written by Andrew Sanchez-Meador (Northen Arizona University), adapted for this example by Tyson L. Swetnam (University of Arizona)"
   ]
  },
  {
   "cell_type": "markdown",
   "metadata": {},
   "source": [
    "## Dependencies\n",
    "\n",
    "```\n",
    "conda install -c r r-devtools\n",
    "```"
   ]
  },
  {
   "cell_type": "markdown",
   "metadata": {},
   "source": [
    "## Install Libraries & Dependencies"
   ]
  },
  {
   "cell_type": "code",
   "execution_count": null,
   "metadata": {},
   "outputs": [],
   "source": [
    "packageVersion('IRdisplay')\n",
    "packageVersion('IRkernel')\n",
    "packageVersion('repr')"
   ]
  },
  {
   "cell_type": "code",
   "execution_count": null,
   "metadata": {},
   "outputs": [],
   "source": [
    "install.packages(c(\"rgdal\",\"lidR\",\"IRdisplay\"))"
   ]
  },
  {
   "cell_type": "code",
   "execution_count": 33,
   "metadata": {},
   "outputs": [
    {
     "name": "stderr",
     "output_type": "stream",
     "text": [
      "Updating HTML index of packages in '.Library'\n",
      "Making 'packages.html' ... done\n"
     ]
    }
   ],
   "source": []
  },
  {
   "cell_type": "code",
   "execution_count": 34,
   "metadata": {},
   "outputs": [
    {
     "name": "stderr",
     "output_type": "stream",
     "text": [
      "Updating HTML index of packages in '.Library'\n",
      "Making 'packages.html' ... done\n"
     ]
    }
   ],
   "source": []
  },
  {
   "cell_type": "markdown",
   "metadata": {},
   "source": [
    "Load libraries"
   ]
  },
  {
   "cell_type": "code",
   "execution_count": null,
   "metadata": {},
   "outputs": [],
   "source": [
    "library(lidR)\n",
    "library(rgdal)\n",
    "library(leaflet)"
   ]
  },
  {
   "cell_type": "markdown",
   "metadata": {},
   "source": [
    "Set options"
   ]
  },
  {
   "cell_type": "code",
   "execution_count": null,
   "metadata": {},
   "outputs": [],
   "source": [
    "lidr_options(verbose = TRUE, progress = TRUE)"
   ]
  },
  {
   "cell_type": "markdown",
   "metadata": {},
   "source": [
    "## Build a project \n",
    "\n",
    "Set the working directory where the lidar tiles are, and where the output will be"
   ]
  },
  {
   "cell_type": "code",
   "execution_count": 38,
   "metadata": {},
   "outputs": [
    {
     "data": {
      "text/html": [
       "'/home/tswetnam/QUBES_NEON/lessons/srer_laz'"
      ],
      "text/latex": [
       "'/home/tswetnam/QUBES\\_NEON/lessons/srer\\_laz'"
      ],
      "text/markdown": [
       "'/home/tswetnam/QUBES_NEON/lessons/srer_laz'"
      ],
      "text/plain": [
       "[1] \"/home/tswetnam/QUBES_NEON/lessons/srer_laz\""
      ]
     },
     "metadata": {},
     "output_type": "display_data"
    }
   ],
   "source": [
    "getwd()"
   ]
  },
  {
   "cell_type": "code",
   "execution_count": 39,
   "metadata": {},
   "outputs": [],
   "source": [
    "setwd('/home/tswetnam/QUBES_NEON/lessons/srer_laz/')"
   ]
  },
  {
   "cell_type": "code",
   "execution_count": null,
   "metadata": {},
   "outputs": [],
   "source": [
    "project <- catalog(\"/home/tswetnam/QUBES_NEON/lessons/srer_laz/classified/NEON_D14_SRER_DP1_502000_3523000_classified_point_cloud.laz\")"
   ]
  },
  {
   "cell_type": "code",
   "execution_count": null,
   "metadata": {},
   "outputs": [],
   "source": [
    "plot(project)"
   ]
  },
  {
   "cell_type": "code",
   "execution_count": null,
   "metadata": {},
   "outputs": [],
   "source": [
    "las = readLAS(\"/home/tswetnam/QUBES_NEON/lessons/srer_laz/classified/NEON_D14_SRER_DP1_502000_3523000_classified_point_cloud.laz\")"
   ]
  },
  {
   "cell_type": "code",
   "execution_count": null,
   "metadata": {},
   "outputs": [],
   "source": [
    "las"
   ]
  },
  {
   "cell_type": "markdown",
   "metadata": {},
   "source": [
    "## Set some global catalog options\n",
    "\n",
    "For this dummy example, the clustering size is 500 m and the buffer is 15 m using\n",
    "a single core (because this example is run on the CRAN server when the package is submitted)."
   ]
  },
  {
   "cell_type": "code",
   "execution_count": null,
   "metadata": {},
   "outputs": [],
   "source": [
    "catalog_options(buffer = 15, multicore = 8, tiling_size = 500)"
   ]
  },
  {
   "cell_type": "markdown",
   "metadata": {},
   "source": [
    "## Build the function that analyzes each cluster of the catalog.\n",
    "\n",
    "The function's first argument is a LAS object. The internal routine takes care of this part. The other arguments can be freely choosen by the user. See the following template:"
   ]
  },
  {
   "cell_type": "code",
   "execution_count": null,
   "metadata": {},
   "outputs": [],
   "source": [
    "tree_area = function(las)\n",
    "{\n",
    "  if (is.null(las))\n",
    "    return(NULL)\n",
    "  \n",
    "  # segment trees (in this example the low point density does not enable\n",
    "  # accurate segmentation of trees. This is just a proof-of-concept)\n",
    "  lastrees(las, algorithm = \"li2012\")\n",
    "  \n",
    "  # Here we used the function tree_metric to compute some metrics for each tree. This\n",
    "  # function is defined later in the global environment.\n",
    "  m = tree_metrics(las, myMetrics(X, Y, Z, buffer, treeID))\n",
    "  \n",
    "  # If min buffer is 0 it means the trees were at least partly in the non-buffered area, so we\n",
    "  # want to keep these trees.\n",
    "  # However, the trees that are on the edge of the buffered area will be counted\n",
    "  # twice. So we must remove the trees on the right side and on the top side of the buffer\n",
    "  # If max buffer is <= 2 it means that the trees belong inside the area of interest, on\n",
    "  # the left side or the bottom side, or both.\n",
    "  m = m[minbuff == 0 & maxbuff <= 2]\n",
    "  \n",
    "  # Remove buffering information that is no longer useful\n",
    "  m[, c(\"minbuff\",\"maxbuff\") := NULL]\n",
    "  \n",
    "  return(m)\n",
    "}"
   ]
  },
  {
   "cell_type": "markdown",
   "metadata": {},
   "source": [
    "This function enables users to extract, for a single tree, the position of the highest point and some information about the buffering position of the tree. The function tree_metrics takes care of mapping along each tree."
   ]
  },
  {
   "cell_type": "code",
   "execution_count": null,
   "metadata": {},
   "outputs": [],
   "source": [
    "myMetrics <- function(x, y, z, buff, treeID)\n",
    "{\n",
    "  i = which.max(z)\n",
    "  xcenter = x[i]\n",
    "  ycenter = y[i]\n",
    "  A = area(x,y)\n",
    "  dat = matrix(c(x, y), nrow=length(x), ncol=2)\n",
    "  ch = chull(dat)\n",
    "  coords <- dat[c(ch, ch[1]), ]  \n",
    "  sp_poly <- SpatialPolygons(list(Polygons(list(Polygon(coords)), ID=treeID[i])))\n",
    "  minbuff = min(buff)\n",
    "  maxbuff = max(buff)\n",
    "  \n",
    "  return(\n",
    "    list(\n",
    "      x = xcenter,\n",
    "      y = ycenter,\n",
    "      area = A,\n",
    "      crowns=list(sp_poly),\n",
    "      minbuff = minbuff,\n",
    "      maxbuff = maxbuff\n",
    "    ))\n",
    "}"
   ]
  },
  {
   "cell_type": "markdown",
   "metadata": {},
   "source": [
    "Everything is now well defined, so now we can process over an entire catalog with hundreds of files (but in this example we use just one file...)"
   ]
  },
  {
   "cell_type": "markdown",
   "metadata": {},
   "source": [
    "## Process the project. \n",
    "\n",
    "The arguments of the user-defined function must belong in a labelled list. We also pass extra arguments to the function readLAS  to load only X, Y and Z coordinates. This way we save a huge amount of memory, which can be used for the current process."
   ]
  },
  {
   "cell_type": "code",
   "execution_count": null,
   "metadata": {},
   "outputs": [],
   "source": [
    "output = catalog_apply(project, tree_area, select = \"xyz\")"
   ]
  },
  {
   "cell_type": "markdown",
   "metadata": {},
   "source": [
    "## Post-process the output result \n",
    "\n",
    "(depending on the output computed). Here, each value of the list is a data.table, so rbindlist does the job:"
   ]
  },
  {
   "cell_type": "code",
   "execution_count": null,
   "metadata": {},
   "outputs": [],
   "source": [
    "output = data.table::rbindlist(output)"
   ]
  },
  {
   "cell_type": "markdown",
   "metadata": {},
   "source": [
    "Create a list of polygons to store the crown chulls for now"
   ]
  },
  {
   "cell_type": "code",
   "execution_count": null,
   "metadata": {},
   "outputs": [],
   "source": [
    "list_of_SPols = output$crowns"
   ]
  },
  {
   "cell_type": "code",
   "execution_count": null,
   "metadata": {},
   "outputs": [],
   "source": [
    "Now remove the crown informaiton from te output, to prepare to write the geojson"
   ]
  },
  {
   "cell_type": "code",
   "execution_count": null,
   "metadata": {},
   "outputs": [],
   "source": [
    "output = output[,1:4]"
   ]
  },
  {
   "cell_type": "code",
   "execution_count": null,
   "metadata": {},
   "outputs": [],
   "source": []
  },
  {
   "cell_type": "code",
   "execution_count": null,
   "metadata": {},
   "outputs": [],
   "source": [
    "library(lidR)\n",
    "\n",
    "# read file\n",
    "las = readLAS(\"/home/tswetnam/Desktop/DiscreteLidar/ClassifiedPointCloud/NEON_D14_SRER_DP1_514000_3519000_classified_point_cloud.laz\")\n",
    "\n",
    "# normalization\n",
    "las = lasnormalize(las, method = \"kriging\")\n",
    "\n",
    "# compute a canopy image\n",
    "chm = grid_tincanopy(las, 0.25, c(0,2,5,10,15), c(0,1) , subcircle = 0.2)\n",
    "chm = as.raster(chm)\n",
    "kernel = matrix(1,3,3)\n",
    "chm = raster::focal(chm, w = kernel, fun = mean)\n",
    "chm = raster::focal(chm, w = kernel, fun = mean)\n",
    "\n",
    "# tree segmentation\n",
    "crowns = lastrees(las, \"watershed\", chm, th = 0.25, extra = TRUE)\n",
    "\n",
    "# display\n",
    "tree = lasfilter(las, !is.na(treeID))\n",
    "plot(tree, color = \"treeID\", colorPalette = pastel.colors(100), size = 2)\n",
    "\n",
    "# More stuff\n",
    "library(raster)\n",
    "contour = rasterToPolygons(crowns, dissolve = TRUE)\n",
    "\n",
    "plot(chm, col = height.colors(50))\n",
    "plot(contour, add = T)"
   ]
  },
  {
   "cell_type": "code",
   "execution_count": null,
   "metadata": {},
   "outputs": [],
   "source": []
  }
 ],
 "metadata": {
  "kernelspec": {
   "display_name": "R",
   "language": "R",
   "name": "ir"
  },
  "language_info": {
   "codemirror_mode": "r",
   "file_extension": ".r",
   "mimetype": "text/x-r-source",
   "name": "R",
   "pygments_lexer": "r",
   "version": "3.4.3"
  }
 },
 "nbformat": 4,
 "nbformat_minor": 2
}
